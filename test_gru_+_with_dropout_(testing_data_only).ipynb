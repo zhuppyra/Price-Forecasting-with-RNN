{
  "cells": [
    {
      "cell_type": "code",
      "execution_count": null,
      "metadata": {
        "id": "ypOm9-M8Wd9D",
        "colab": {
          "base_uri": "https://localhost:8080/"
        },
        "outputId": "030539b7-9c95-4cf1-b419-911527a476b5"
      },
      "outputs": [
        {
          "output_type": "stream",
          "name": "stderr",
          "text": [
            "/usr/local/lib/python3.7/dist-packages/statsmodels/tools/_testing.py:19: FutureWarning: pandas.util.testing is deprecated. Use the functions in the public API at pandas.testing instead.\n",
            "  import pandas.util.testing as tm\n"
          ]
        }
      ],
      "source": [
        "# Import modules\n",
        "from google.colab import files\n",
        "import math\n",
        "import pandas as pd\n",
        "import numpy as np\n",
        "import matplotlib.pyplot as plt\n",
        "from sklearn.preprocessing import MinMaxScaler\n",
        "from sklearn.metrics import mean_squared_error, median_absolute_error, mean_absolute_error\n",
        "from keras.models import Sequential\n",
        "from keras.layers import Dense, LSTM, Input, Dropout\n",
        "from statsmodels.tsa.seasonal import seasonal_decompose\n",
        "import tensorflow as tf\n",
        "import time"
      ]
    },
    {
      "cell_type": "code",
      "execution_count": null,
      "metadata": {
        "id": "VvC14em_Ws00",
        "colab": {
          "base_uri": "https://localhost:8080/",
          "height": 386
        },
        "outputId": "7cbde88d-ac27-4b41-c48e-eb652cda9602"
      },
      "outputs": [
        {
          "output_type": "execute_result",
          "data": {
            "text/plain": [
              "            Shallot   Garlic     Rice  Chili pepper  Cayenne pepper  \\\n",
              "Date                                                                  \n",
              "2016-01-01  35774.0  27588.0  10806.0       39831.0         48486.0   \n",
              "2016-01-02  35068.0  27750.0  10809.0       40191.0         48146.0   \n",
              "2016-01-03  35318.0  27728.0  10809.0       39581.0         47396.0   \n",
              "2016-01-04  35757.0  28084.0  10835.0       39251.0         45896.0   \n",
              "2016-01-05  36236.0  28037.0  10835.0       39241.0         44021.0   \n",
              "\n",
              "            Broiler meat  Topside beef  Granulated sugar  Cooking oil  \\\n",
              "Date                                                                    \n",
              "2016-01-01       33303.0      110235.0           12838.0      15027.0   \n",
              "2016-01-02       33479.0      110265.0           12909.0      15092.0   \n",
              "2016-01-03       33362.0      110338.0           12909.0      15092.0   \n",
              "2016-01-04       34224.0      110306.0           13017.0      14956.0   \n",
              "2016-01-05       34116.0      110245.0           13020.0      14962.0   \n",
              "\n",
              "            Chicken egg  \n",
              "Date                     \n",
              "2016-01-01      25743.0  \n",
              "2016-01-02      25774.0  \n",
              "2016-01-03      25700.0  \n",
              "2016-01-04      25564.0  \n",
              "2016-01-05      25586.0  "
            ],
            "text/html": [
              "\n",
              "  <div id=\"df-7cced509-6b46-45ec-85e2-c60d523e671d\">\n",
              "    <div class=\"colab-df-container\">\n",
              "      <div>\n",
              "<style scoped>\n",
              "    .dataframe tbody tr th:only-of-type {\n",
              "        vertical-align: middle;\n",
              "    }\n",
              "\n",
              "    .dataframe tbody tr th {\n",
              "        vertical-align: top;\n",
              "    }\n",
              "\n",
              "    .dataframe thead th {\n",
              "        text-align: right;\n",
              "    }\n",
              "</style>\n",
              "<table border=\"1\" class=\"dataframe\">\n",
              "  <thead>\n",
              "    <tr style=\"text-align: right;\">\n",
              "      <th></th>\n",
              "      <th>Shallot</th>\n",
              "      <th>Garlic</th>\n",
              "      <th>Rice</th>\n",
              "      <th>Chili pepper</th>\n",
              "      <th>Cayenne pepper</th>\n",
              "      <th>Broiler meat</th>\n",
              "      <th>Topside beef</th>\n",
              "      <th>Granulated sugar</th>\n",
              "      <th>Cooking oil</th>\n",
              "      <th>Chicken egg</th>\n",
              "    </tr>\n",
              "    <tr>\n",
              "      <th>Date</th>\n",
              "      <th></th>\n",
              "      <th></th>\n",
              "      <th></th>\n",
              "      <th></th>\n",
              "      <th></th>\n",
              "      <th></th>\n",
              "      <th></th>\n",
              "      <th></th>\n",
              "      <th></th>\n",
              "      <th></th>\n",
              "    </tr>\n",
              "  </thead>\n",
              "  <tbody>\n",
              "    <tr>\n",
              "      <th>2016-01-01</th>\n",
              "      <td>35774.0</td>\n",
              "      <td>27588.0</td>\n",
              "      <td>10806.0</td>\n",
              "      <td>39831.0</td>\n",
              "      <td>48486.0</td>\n",
              "      <td>33303.0</td>\n",
              "      <td>110235.0</td>\n",
              "      <td>12838.0</td>\n",
              "      <td>15027.0</td>\n",
              "      <td>25743.0</td>\n",
              "    </tr>\n",
              "    <tr>\n",
              "      <th>2016-01-02</th>\n",
              "      <td>35068.0</td>\n",
              "      <td>27750.0</td>\n",
              "      <td>10809.0</td>\n",
              "      <td>40191.0</td>\n",
              "      <td>48146.0</td>\n",
              "      <td>33479.0</td>\n",
              "      <td>110265.0</td>\n",
              "      <td>12909.0</td>\n",
              "      <td>15092.0</td>\n",
              "      <td>25774.0</td>\n",
              "    </tr>\n",
              "    <tr>\n",
              "      <th>2016-01-03</th>\n",
              "      <td>35318.0</td>\n",
              "      <td>27728.0</td>\n",
              "      <td>10809.0</td>\n",
              "      <td>39581.0</td>\n",
              "      <td>47396.0</td>\n",
              "      <td>33362.0</td>\n",
              "      <td>110338.0</td>\n",
              "      <td>12909.0</td>\n",
              "      <td>15092.0</td>\n",
              "      <td>25700.0</td>\n",
              "    </tr>\n",
              "    <tr>\n",
              "      <th>2016-01-04</th>\n",
              "      <td>35757.0</td>\n",
              "      <td>28084.0</td>\n",
              "      <td>10835.0</td>\n",
              "      <td>39251.0</td>\n",
              "      <td>45896.0</td>\n",
              "      <td>34224.0</td>\n",
              "      <td>110306.0</td>\n",
              "      <td>13017.0</td>\n",
              "      <td>14956.0</td>\n",
              "      <td>25564.0</td>\n",
              "    </tr>\n",
              "    <tr>\n",
              "      <th>2016-01-05</th>\n",
              "      <td>36236.0</td>\n",
              "      <td>28037.0</td>\n",
              "      <td>10835.0</td>\n",
              "      <td>39241.0</td>\n",
              "      <td>44021.0</td>\n",
              "      <td>34116.0</td>\n",
              "      <td>110245.0</td>\n",
              "      <td>13020.0</td>\n",
              "      <td>14962.0</td>\n",
              "      <td>25586.0</td>\n",
              "    </tr>\n",
              "  </tbody>\n",
              "</table>\n",
              "</div>\n",
              "      <button class=\"colab-df-convert\" onclick=\"convertToInteractive('df-7cced509-6b46-45ec-85e2-c60d523e671d')\"\n",
              "              title=\"Convert this dataframe to an interactive table.\"\n",
              "              style=\"display:none;\">\n",
              "        \n",
              "  <svg xmlns=\"http://www.w3.org/2000/svg\" height=\"24px\"viewBox=\"0 0 24 24\"\n",
              "       width=\"24px\">\n",
              "    <path d=\"M0 0h24v24H0V0z\" fill=\"none\"/>\n",
              "    <path d=\"M18.56 5.44l.94 2.06.94-2.06 2.06-.94-2.06-.94-.94-2.06-.94 2.06-2.06.94zm-11 1L8.5 8.5l.94-2.06 2.06-.94-2.06-.94L8.5 2.5l-.94 2.06-2.06.94zm10 10l.94 2.06.94-2.06 2.06-.94-2.06-.94-.94-2.06-.94 2.06-2.06.94z\"/><path d=\"M17.41 7.96l-1.37-1.37c-.4-.4-.92-.59-1.43-.59-.52 0-1.04.2-1.43.59L10.3 9.45l-7.72 7.72c-.78.78-.78 2.05 0 2.83L4 21.41c.39.39.9.59 1.41.59.51 0 1.02-.2 1.41-.59l7.78-7.78 2.81-2.81c.8-.78.8-2.07 0-2.86zM5.41 20L4 18.59l7.72-7.72 1.47 1.35L5.41 20z\"/>\n",
              "  </svg>\n",
              "      </button>\n",
              "      \n",
              "  <style>\n",
              "    .colab-df-container {\n",
              "      display:flex;\n",
              "      flex-wrap:wrap;\n",
              "      gap: 12px;\n",
              "    }\n",
              "\n",
              "    .colab-df-convert {\n",
              "      background-color: #E8F0FE;\n",
              "      border: none;\n",
              "      border-radius: 50%;\n",
              "      cursor: pointer;\n",
              "      display: none;\n",
              "      fill: #1967D2;\n",
              "      height: 32px;\n",
              "      padding: 0 0 0 0;\n",
              "      width: 32px;\n",
              "    }\n",
              "\n",
              "    .colab-df-convert:hover {\n",
              "      background-color: #E2EBFA;\n",
              "      box-shadow: 0px 1px 2px rgba(60, 64, 67, 0.3), 0px 1px 3px 1px rgba(60, 64, 67, 0.15);\n",
              "      fill: #174EA6;\n",
              "    }\n",
              "\n",
              "    [theme=dark] .colab-df-convert {\n",
              "      background-color: #3B4455;\n",
              "      fill: #D2E3FC;\n",
              "    }\n",
              "\n",
              "    [theme=dark] .colab-df-convert:hover {\n",
              "      background-color: #434B5C;\n",
              "      box-shadow: 0px 1px 3px 1px rgba(0, 0, 0, 0.15);\n",
              "      filter: drop-shadow(0px 1px 2px rgba(0, 0, 0, 0.3));\n",
              "      fill: #FFFFFF;\n",
              "    }\n",
              "  </style>\n",
              "\n",
              "      <script>\n",
              "        const buttonEl =\n",
              "          document.querySelector('#df-7cced509-6b46-45ec-85e2-c60d523e671d button.colab-df-convert');\n",
              "        buttonEl.style.display =\n",
              "          google.colab.kernel.accessAllowed ? 'block' : 'none';\n",
              "\n",
              "        async function convertToInteractive(key) {\n",
              "          const element = document.querySelector('#df-7cced509-6b46-45ec-85e2-c60d523e671d');\n",
              "          const dataTable =\n",
              "            await google.colab.kernel.invokeFunction('convertToInteractive',\n",
              "                                                     [key], {});\n",
              "          if (!dataTable) return;\n",
              "\n",
              "          const docLinkHtml = 'Like what you see? Visit the ' +\n",
              "            '<a target=\"_blank\" href=https://colab.research.google.com/notebooks/data_table.ipynb>data table notebook</a>'\n",
              "            + ' to learn more about interactive tables.';\n",
              "          element.innerHTML = '';\n",
              "          dataTable['output_type'] = 'display_data';\n",
              "          await google.colab.output.renderOutput(dataTable, element);\n",
              "          const docLink = document.createElement('div');\n",
              "          docLink.innerHTML = docLinkHtml;\n",
              "          element.appendChild(docLink);\n",
              "        }\n",
              "      </script>\n",
              "    </div>\n",
              "  </div>\n",
              "  "
            ]
          },
          "metadata": {},
          "execution_count": 2
        }
      ],
      "source": [
        "url=\"https://raw.githubusercontent.com/zhuppyra/price-forecasting/main/Data%20harga%202016-2021%2010%20komoditas.csv\"\n",
        "df=pd.read_csv(url, index_col='Date', parse_dates=True)\n",
        "df.index.freq='D'\n",
        "df.head()"
      ]
    },
    {
      "cell_type": "code",
      "execution_count": null,
      "metadata": {
        "id": "7MkjKKPUW-bR",
        "colab": {
          "base_uri": "https://localhost:8080/"
        },
        "outputId": "8ba181c8-e80e-4efa-d8d1-9943750b5cbe"
      },
      "outputs": [
        {
          "output_type": "execute_result",
          "data": {
            "text/plain": [
              "True"
            ]
          },
          "metadata": {},
          "execution_count": 3
        }
      ],
      "source": [
        "# checking for missing data\n",
        "df.isna().any().any()"
      ]
    },
    {
      "cell_type": "code",
      "execution_count": null,
      "metadata": {
        "id": "UuXYoQJjXAvd",
        "colab": {
          "base_uri": "https://localhost:8080/"
        },
        "outputId": "5ac4b38d-eedf-4050-bad2-90a6797f99fb"
      },
      "outputs": [
        {
          "output_type": "stream",
          "name": "stdout",
          "text": [
            "(2192, 10)\n",
            "False\n"
          ]
        }
      ],
      "source": [
        "# filling missing data using last observation carried forward (LOCF)\n",
        "df1 = df.ffill()\n",
        "# print dataframe shape\n",
        "print(df1.shape)\n",
        "# rechecking for missing data\n",
        "print(df1.isna().any().any())"
      ]
    },
    {
      "cell_type": "code",
      "source": [
        "# only include start of the week/end of week\n",
        "df1 = df1.iloc[3:]\n",
        "df1 = df1.iloc[:-5]\n",
        "print(df1)"
      ],
      "metadata": {
        "colab": {
          "base_uri": "https://localhost:8080/"
        },
        "id": "LD9nW3TtPW4m",
        "outputId": "1c5ba209-f43e-439a-e3fe-84a09d599e6a"
      },
      "execution_count": null,
      "outputs": [
        {
          "output_type": "stream",
          "name": "stdout",
          "text": [
            "            Shallot   Garlic     Rice  Chili pepper  Cayenne pepper  \\\n",
            "Date                                                                  \n",
            "2016-01-04  35757.0  28084.0  10835.0       39251.0         45896.0   \n",
            "2016-01-05  36236.0  28037.0  10835.0       39241.0         44021.0   \n",
            "2016-01-06  36389.0  27879.0  10841.0       38280.0         43209.0   \n",
            "2016-01-07  36422.0  27990.0  10839.0       37111.0         42636.0   \n",
            "2016-01-08  36125.0  27925.0  10827.0       35803.0         41440.0   \n",
            "...             ...      ...      ...           ...             ...   \n",
            "2021-12-22  28083.0  27859.0  10312.0       51690.0         91394.0   \n",
            "2021-12-23  28154.0  27898.0  10313.0       51757.0         92519.0   \n",
            "2021-12-24  28329.0  28068.0  10329.0       51266.0         94845.0   \n",
            "2021-12-25  28329.0  28068.0  10329.0       51266.0         94845.0   \n",
            "2021-12-26  28329.0  28068.0  10329.0       51266.0         94845.0   \n",
            "\n",
            "            Broiler meat  Topside beef  Granulated sugar  Cooking oil  \\\n",
            "Date                                                                    \n",
            "2016-01-04       34224.0      110306.0           13017.0      14956.0   \n",
            "2016-01-05       34116.0      110245.0           13020.0      14962.0   \n",
            "2016-01-06       34475.0      110195.0           13029.0      14940.0   \n",
            "2016-01-07       34367.0      110391.0           13038.0      14945.0   \n",
            "2016-01-08       34293.0      110546.0           13061.0      14953.0   \n",
            "...                  ...           ...               ...          ...   \n",
            "2021-12-22       35665.0      125789.0           13157.0      20037.0   \n",
            "2021-12-23       35806.0      126090.0           13172.0      20036.0   \n",
            "2021-12-24       36043.0      126293.0           13192.0      20028.0   \n",
            "2021-12-25       36043.0      126293.0           13192.0      20028.0   \n",
            "2021-12-26       36043.0      126293.0           13192.0      20028.0   \n",
            "\n",
            "            Chicken egg  \n",
            "Date                     \n",
            "2016-01-04      25564.0  \n",
            "2016-01-05      25586.0  \n",
            "2016-01-06      25438.0  \n",
            "2016-01-07      25432.0  \n",
            "2016-01-08      25572.0  \n",
            "...                 ...  \n",
            "2021-12-22      27486.0  \n",
            "2021-12-23      27753.0  \n",
            "2021-12-24      28614.0  \n",
            "2021-12-25      28614.0  \n",
            "2021-12-26      28614.0  \n",
            "\n",
            "[2184 rows x 10 columns]\n"
          ]
        }
      ]
    },
    {
      "cell_type": "code",
      "source": [
        "print(df1.describe())"
      ],
      "metadata": {
        "colab": {
          "base_uri": "https://localhost:8080/"
        },
        "id": "ORNBkuze16e5",
        "outputId": "a68a45dc-c9d2-490b-979c-5ca374b4e3c1"
      },
      "execution_count": null,
      "outputs": [
        {
          "output_type": "stream",
          "name": "stdout",
          "text": [
            "            Shallot        Garlic          Rice   Chili pepper  \\\n",
            "count   2184.000000   2184.000000   2184.000000    2184.000000   \n",
            "mean   33308.605311  31554.568223  10573.712454   37079.377289   \n",
            "std     6671.733968   7130.177343    192.206923    9084.893179   \n",
            "min    20525.000000  17700.000000   8500.000000   20000.000000   \n",
            "25%    28321.500000  26734.000000  10479.000000   30645.250000   \n",
            "50%    32841.000000  29411.500000  10566.000000   34507.000000   \n",
            "75%    37114.250000  36438.250000  10651.000000   41768.750000   \n",
            "max    82900.000000  69900.000000  11751.000000  123900.000000   \n",
            "\n",
            "       Cayenne pepper  Broiler meat   Topside beef  Granulated sugar  \\\n",
            "count     2184.000000   2184.000000    2184.000000       2184.000000   \n",
            "mean     49696.264194  33304.434066  118777.253663      13403.568681   \n",
            "std      17684.264109   2277.716259    4412.704624       1264.572248   \n",
            "min      12000.000000  21700.000000   90000.000000      11500.000000   \n",
            "25%      37267.250000  31764.250000  116135.000000      12776.500000   \n",
            "50%      43814.500000  33187.500000  118525.500000      13073.000000   \n",
            "75%      55991.750000  34852.500000  120531.000000      13730.500000   \n",
            "max     143900.000000  45000.000000  150000.000000      19750.000000   \n",
            "\n",
            "        Cooking oil   Chicken egg  \n",
            "count   2184.000000   2184.000000  \n",
            "mean   15051.910714  24796.226648  \n",
            "std      818.174040   1554.725467  \n",
            "min    11500.000000  11900.000000  \n",
            "25%    14712.000000  23775.250000  \n",
            "50%    14907.000000  24841.000000  \n",
            "75%    15066.000000  25861.250000  \n",
            "max    20037.000000  32000.000000  \n"
          ]
        }
      ]
    },
    {
      "cell_type": "code",
      "execution_count": null,
      "metadata": {
        "id": "BejSj99BXCjB",
        "colab": {
          "base_uri": "https://localhost:8080/",
          "height": 255
        },
        "outputId": "86322984-76b1-40f9-ccdf-347421670bf1"
      },
      "outputs": [
        {
          "output_type": "stream",
          "name": "stdout",
          "text": [
            "(2184, 1)\n"
          ]
        },
        {
          "output_type": "execute_result",
          "data": {
            "text/plain": [
              "            Broiler meat\n",
              "Date                    \n",
              "2016-01-04       34224.0\n",
              "2016-01-05       34116.0\n",
              "2016-01-06       34475.0\n",
              "2016-01-07       34367.0\n",
              "2016-01-08       34293.0"
            ],
            "text/html": [
              "\n",
              "  <div id=\"df-2c04662b-a474-49bc-90d6-22782b319a18\">\n",
              "    <div class=\"colab-df-container\">\n",
              "      <div>\n",
              "<style scoped>\n",
              "    .dataframe tbody tr th:only-of-type {\n",
              "        vertical-align: middle;\n",
              "    }\n",
              "\n",
              "    .dataframe tbody tr th {\n",
              "        vertical-align: top;\n",
              "    }\n",
              "\n",
              "    .dataframe thead th {\n",
              "        text-align: right;\n",
              "    }\n",
              "</style>\n",
              "<table border=\"1\" class=\"dataframe\">\n",
              "  <thead>\n",
              "    <tr style=\"text-align: right;\">\n",
              "      <th></th>\n",
              "      <th>Broiler meat</th>\n",
              "    </tr>\n",
              "    <tr>\n",
              "      <th>Date</th>\n",
              "      <th></th>\n",
              "    </tr>\n",
              "  </thead>\n",
              "  <tbody>\n",
              "    <tr>\n",
              "      <th>2016-01-04</th>\n",
              "      <td>34224.0</td>\n",
              "    </tr>\n",
              "    <tr>\n",
              "      <th>2016-01-05</th>\n",
              "      <td>34116.0</td>\n",
              "    </tr>\n",
              "    <tr>\n",
              "      <th>2016-01-06</th>\n",
              "      <td>34475.0</td>\n",
              "    </tr>\n",
              "    <tr>\n",
              "      <th>2016-01-07</th>\n",
              "      <td>34367.0</td>\n",
              "    </tr>\n",
              "    <tr>\n",
              "      <th>2016-01-08</th>\n",
              "      <td>34293.0</td>\n",
              "    </tr>\n",
              "  </tbody>\n",
              "</table>\n",
              "</div>\n",
              "      <button class=\"colab-df-convert\" onclick=\"convertToInteractive('df-2c04662b-a474-49bc-90d6-22782b319a18')\"\n",
              "              title=\"Convert this dataframe to an interactive table.\"\n",
              "              style=\"display:none;\">\n",
              "        \n",
              "  <svg xmlns=\"http://www.w3.org/2000/svg\" height=\"24px\"viewBox=\"0 0 24 24\"\n",
              "       width=\"24px\">\n",
              "    <path d=\"M0 0h24v24H0V0z\" fill=\"none\"/>\n",
              "    <path d=\"M18.56 5.44l.94 2.06.94-2.06 2.06-.94-2.06-.94-.94-2.06-.94 2.06-2.06.94zm-11 1L8.5 8.5l.94-2.06 2.06-.94-2.06-.94L8.5 2.5l-.94 2.06-2.06.94zm10 10l.94 2.06.94-2.06 2.06-.94-2.06-.94-.94-2.06-.94 2.06-2.06.94z\"/><path d=\"M17.41 7.96l-1.37-1.37c-.4-.4-.92-.59-1.43-.59-.52 0-1.04.2-1.43.59L10.3 9.45l-7.72 7.72c-.78.78-.78 2.05 0 2.83L4 21.41c.39.39.9.59 1.41.59.51 0 1.02-.2 1.41-.59l7.78-7.78 2.81-2.81c.8-.78.8-2.07 0-2.86zM5.41 20L4 18.59l7.72-7.72 1.47 1.35L5.41 20z\"/>\n",
              "  </svg>\n",
              "      </button>\n",
              "      \n",
              "  <style>\n",
              "    .colab-df-container {\n",
              "      display:flex;\n",
              "      flex-wrap:wrap;\n",
              "      gap: 12px;\n",
              "    }\n",
              "\n",
              "    .colab-df-convert {\n",
              "      background-color: #E8F0FE;\n",
              "      border: none;\n",
              "      border-radius: 50%;\n",
              "      cursor: pointer;\n",
              "      display: none;\n",
              "      fill: #1967D2;\n",
              "      height: 32px;\n",
              "      padding: 0 0 0 0;\n",
              "      width: 32px;\n",
              "    }\n",
              "\n",
              "    .colab-df-convert:hover {\n",
              "      background-color: #E2EBFA;\n",
              "      box-shadow: 0px 1px 2px rgba(60, 64, 67, 0.3), 0px 1px 3px 1px rgba(60, 64, 67, 0.15);\n",
              "      fill: #174EA6;\n",
              "    }\n",
              "\n",
              "    [theme=dark] .colab-df-convert {\n",
              "      background-color: #3B4455;\n",
              "      fill: #D2E3FC;\n",
              "    }\n",
              "\n",
              "    [theme=dark] .colab-df-convert:hover {\n",
              "      background-color: #434B5C;\n",
              "      box-shadow: 0px 1px 3px 1px rgba(0, 0, 0, 0.15);\n",
              "      filter: drop-shadow(0px 1px 2px rgba(0, 0, 0, 0.3));\n",
              "      fill: #FFFFFF;\n",
              "    }\n",
              "  </style>\n",
              "\n",
              "      <script>\n",
              "        const buttonEl =\n",
              "          document.querySelector('#df-2c04662b-a474-49bc-90d6-22782b319a18 button.colab-df-convert');\n",
              "        buttonEl.style.display =\n",
              "          google.colab.kernel.accessAllowed ? 'block' : 'none';\n",
              "\n",
              "        async function convertToInteractive(key) {\n",
              "          const element = document.querySelector('#df-2c04662b-a474-49bc-90d6-22782b319a18');\n",
              "          const dataTable =\n",
              "            await google.colab.kernel.invokeFunction('convertToInteractive',\n",
              "                                                     [key], {});\n",
              "          if (!dataTable) return;\n",
              "\n",
              "          const docLinkHtml = 'Like what you see? Visit the ' +\n",
              "            '<a target=\"_blank\" href=https://colab.research.google.com/notebooks/data_table.ipynb>data table notebook</a>'\n",
              "            + ' to learn more about interactive tables.';\n",
              "          element.innerHTML = '';\n",
              "          dataTable['output_type'] = 'display_data';\n",
              "          await google.colab.output.renderOutput(dataTable, element);\n",
              "          const docLink = document.createElement('div');\n",
              "          docLink.innerHTML = docLinkHtml;\n",
              "          element.appendChild(docLink);\n",
              "        }\n",
              "      </script>\n",
              "    </div>\n",
              "  </div>\n",
              "  "
            ]
          },
          "metadata": {},
          "execution_count": 7
        }
      ],
      "source": [
        "# isolate desired commodity\n",
        "comm_name = 'Broiler meat'\n",
        "commodity = df1.filter([comm_name])\n",
        "print(commodity.shape)\n",
        "commodity.head()"
      ]
    },
    {
      "cell_type": "code",
      "source": [
        "# convert dataframe into numpy array\n",
        "commodity_ar = np.array(commodity)\n",
        "print(commodity_ar.shape)\n",
        "# get the numbers of training data needed\n",
        "# fitting it to a full week data (hence the +3)\n",
        "commodity_train_len = int(len(commodity_ar)*.8+3)\n",
        "commodity_test_len = len(commodity_ar)-commodity_train_len\n",
        "print(commodity_train_len, commodity_test_len)"
      ],
      "metadata": {
        "id": "GmtF-UGq4ey2",
        "colab": {
          "base_uri": "https://localhost:8080/"
        },
        "outputId": "db15c3d5-2f13-49dd-d08c-41016ad82419"
      },
      "execution_count": null,
      "outputs": [
        {
          "output_type": "stream",
          "name": "stdout",
          "text": [
            "(2184, 1)\n",
            "1750 434\n"
          ]
        }
      ]
    },
    {
      "cell_type": "code",
      "execution_count": null,
      "metadata": {
        "id": "rmhIv3PmYd4z"
      },
      "outputs": [],
      "source": [
        "# scaling the data\n",
        "scaler=MinMaxScaler(feature_range=(0,1))"
      ]
    },
    {
      "cell_type": "code",
      "execution_count": null,
      "metadata": {
        "id": "Bi94o4_lYjGa",
        "colab": {
          "base_uri": "https://localhost:8080/"
        },
        "outputId": "d6c30c57-c822-4c67-d2d9-d63fca90a2a3"
      },
      "outputs": [
        {
          "output_type": "stream",
          "name": "stdout",
          "text": [
            "(1750, 1)\n"
          ]
        }
      ],
      "source": [
        "# making training dataset\n",
        "commodity_train = commodity_ar[0:commodity_train_len]\n",
        "print(commodity_train.shape)\n",
        "commodity_train_scaled = scaler.fit_transform(commodity_train)"
      ]
    },
    {
      "cell_type": "code",
      "execution_count": null,
      "metadata": {
        "id": "PK-zw-dTZhQN"
      },
      "outputs": [],
      "source": [
        "# creating matrix dataset function\n",
        "def create_dataset(dataset, time_step=1):\n",
        "    dataX, dataY = [], []\n",
        "    for i in range(len(dataset)-time_step):\n",
        "        a = dataset[i:(i+time_step), 0]\n",
        "        dataX.append(a)\n",
        "        dataY.append(dataset[i+time_step, 0])\n",
        "    return np.array(dataX), np.array(dataY)"
      ]
    },
    {
      "cell_type": "code",
      "execution_count": null,
      "metadata": {
        "id": "Mke0PMizZnHu",
        "colab": {
          "base_uri": "https://localhost:8080/"
        },
        "outputId": "5ace9c13-c9ea-4ed3-e64d-3c5ee600a94c"
      },
      "outputs": [
        {
          "output_type": "stream",
          "name": "stdout",
          "text": [
            "(1743, 7) (1743,)\n"
          ]
        }
      ],
      "source": [
        "# applying new function to create matrix dataset\n",
        "time_step = 7\n",
        "X_train, y_train = create_dataset(commodity_train_scaled, time_step)\n",
        "print(X_train.shape, y_train.shape)"
      ]
    },
    {
      "cell_type": "code",
      "execution_count": null,
      "metadata": {
        "id": "7BuEcN2tZ2y4",
        "colab": {
          "base_uri": "https://localhost:8080/"
        },
        "outputId": "841c3f3c-e642-4903-8306-740b3ff529e4"
      },
      "outputs": [
        {
          "output_type": "stream",
          "name": "stdout",
          "text": [
            "(1743, 7)\n",
            "(1743,)\n",
            "(1743, 7, 1)\n"
          ]
        }
      ],
      "source": [
        "# reshape data\n",
        "print(X_train.shape), print(y_train.shape)\n",
        "X_train = np.reshape(X_train, (X_train.shape[0], X_train.shape[1], 1))\n",
        "print(X_train.shape)"
      ]
    },
    {
      "cell_type": "code",
      "source": [
        "from keras.layers import Dense, Input, Dropout\n",
        "from keras.layers.recurrent import GRU\n",
        "from keras.models import Model\n",
        "from keras.models import load_model\n",
        "from keras.callbacks import ModelCheckpoint"
      ],
      "metadata": {
        "id": "v3WsK0l6S9TW"
      },
      "execution_count": null,
      "outputs": []
    },
    {
      "cell_type": "code",
      "source": [
        "neuron = 200\n",
        "n_epoch = 100"
      ],
      "metadata": {
        "id": "TF6PzG-qbQ6z"
      },
      "execution_count": null,
      "outputs": []
    },
    {
      "cell_type": "code",
      "source": [
        "np.random.seed(333)\n",
        "tf.random.set_seed(333)"
      ],
      "metadata": {
        "id": "DUb1x-0ADgF6"
      },
      "execution_count": null,
      "outputs": []
    },
    {
      "cell_type": "code",
      "execution_count": null,
      "metadata": {
        "id": "vF2yK_CFZ_Lz",
        "colab": {
          "base_uri": "https://localhost:8080/"
        },
        "outputId": "f8058a0c-8691-494f-af00-7a8db6d696ae"
      },
      "outputs": [
        {
          "output_type": "stream",
          "name": "stdout",
          "text": [
            "Model: \"model\"\n",
            "_________________________________________________________________\n",
            " Layer (type)                Output Shape              Param #   \n",
            "=================================================================\n",
            " input_1 (InputLayer)        [(None, 7, 1)]            0         \n",
            "                                                                 \n",
            " gru (GRU)                   (None, 7, 200)            121200    \n",
            "                                                                 \n",
            " gru_1 (GRU)                 (None, 200)               240600    \n",
            "                                                                 \n",
            " dropout (Dropout)           (None, 200)               0         \n",
            "                                                                 \n",
            " dense (Dense)               (None, 1)                 201       \n",
            "                                                                 \n",
            "=================================================================\n",
            "Total params: 362,001\n",
            "Trainable params: 362,001\n",
            "Non-trainable params: 0\n",
            "_________________________________________________________________\n"
          ]
        }
      ],
      "source": [
        "#Define input layer which has shape (None, 7) and of type float32.\n",
        "# None indicates the number of instances\n",
        "input_layer = Input(shape=(7,1), dtype='float32')\n",
        "# lstm layer\n",
        "gru_layer1 = GRU(neuron, input_shape=(7,1), return_sequences=True)(input_layer)\n",
        "gru_layer2 = GRU(neuron, input_shape=(7,neuron), return_sequences=False)(gru_layer1)\n",
        "#gru_layer3 = GRU(neuron, input_shape=(7,neuron), return_sequences=False)(gru_layer2)\n",
        "# dropout layer\n",
        "dropout_layer = Dropout(0.2)(gru_layer2)\n",
        "# output layer\n",
        "output_layer = Dense(1)(dropout_layer)\n",
        "# compile model\n",
        "ts_model = Model(inputs=input_layer, outputs=output_layer)\n",
        "ts_model.compile(loss='mean_absolute_error', optimizer='adam')\n",
        "ts_model.summary()"
      ]
    },
    {
      "cell_type": "code",
      "source": [
        "ts_model.fit(x=X_train, y=y_train, batch_size=64, epochs=n_epoch, verbose=1,\n",
        "             shuffle=True)"
      ],
      "metadata": {
        "colab": {
          "base_uri": "https://localhost:8080/"
        },
        "id": "JJasof1fUK7a",
        "outputId": "13ddb9bf-0b5e-478d-d835-aeec68e4839e"
      },
      "execution_count": null,
      "outputs": [
        {
          "output_type": "stream",
          "name": "stdout",
          "text": [
            "Epoch 1/100\n",
            "28/28 [==============================] - 16s 150ms/step - loss: 0.1218\n",
            "Epoch 2/100\n",
            "28/28 [==============================] - 3s 116ms/step - loss: 0.0410\n",
            "Epoch 3/100\n",
            "28/28 [==============================] - 2s 69ms/step - loss: 0.0355\n",
            "Epoch 4/100\n",
            "28/28 [==============================] - 2s 54ms/step - loss: 0.0333\n",
            "Epoch 5/100\n",
            "28/28 [==============================] - 1s 53ms/step - loss: 0.0342\n",
            "Epoch 6/100\n",
            "28/28 [==============================] - 1s 52ms/step - loss: 0.0341\n",
            "Epoch 7/100\n",
            "28/28 [==============================] - 1s 53ms/step - loss: 0.0333\n",
            "Epoch 8/100\n",
            "28/28 [==============================] - 1s 52ms/step - loss: 0.0363\n",
            "Epoch 9/100\n",
            "28/28 [==============================] - 1s 53ms/step - loss: 0.0349\n",
            "Epoch 10/100\n",
            "28/28 [==============================] - 1s 52ms/step - loss: 0.0319\n",
            "Epoch 11/100\n",
            "28/28 [==============================] - 2s 54ms/step - loss: 0.0345\n",
            "Epoch 12/100\n",
            "28/28 [==============================] - 1s 54ms/step - loss: 0.0365\n",
            "Epoch 13/100\n",
            "28/28 [==============================] - 2s 56ms/step - loss: 0.0329\n",
            "Epoch 14/100\n",
            "28/28 [==============================] - 2s 54ms/step - loss: 0.0313\n",
            "Epoch 15/100\n",
            "28/28 [==============================] - 2s 54ms/step - loss: 0.0330\n",
            "Epoch 16/100\n",
            "28/28 [==============================] - 2s 55ms/step - loss: 0.0312\n",
            "Epoch 17/100\n",
            "28/28 [==============================] - 2s 55ms/step - loss: 0.0292\n",
            "Epoch 18/100\n",
            "28/28 [==============================] - 1s 53ms/step - loss: 0.0304\n",
            "Epoch 19/100\n",
            "28/28 [==============================] - 1s 52ms/step - loss: 0.0307\n",
            "Epoch 20/100\n",
            "28/28 [==============================] - 2s 54ms/step - loss: 0.0299\n",
            "Epoch 21/100\n",
            "28/28 [==============================] - 1s 52ms/step - loss: 0.0307\n",
            "Epoch 22/100\n",
            "28/28 [==============================] - 1s 53ms/step - loss: 0.0308\n",
            "Epoch 23/100\n",
            "28/28 [==============================] - 1s 53ms/step - loss: 0.0307\n",
            "Epoch 24/100\n",
            "28/28 [==============================] - 2s 53ms/step - loss: 0.0292\n",
            "Epoch 25/100\n",
            "28/28 [==============================] - 1s 53ms/step - loss: 0.0300\n",
            "Epoch 26/100\n",
            "28/28 [==============================] - 1s 52ms/step - loss: 0.0298\n",
            "Epoch 27/100\n",
            "28/28 [==============================] - 1s 53ms/step - loss: 0.0311\n",
            "Epoch 28/100\n",
            "28/28 [==============================] - 1s 52ms/step - loss: 0.0290\n",
            "Epoch 29/100\n",
            "28/28 [==============================] - 2s 54ms/step - loss: 0.0298\n",
            "Epoch 30/100\n",
            "28/28 [==============================] - 2s 54ms/step - loss: 0.0300\n",
            "Epoch 31/100\n",
            "28/28 [==============================] - 1s 52ms/step - loss: 0.0290\n",
            "Epoch 32/100\n",
            "28/28 [==============================] - 1s 52ms/step - loss: 0.0297\n",
            "Epoch 33/100\n",
            "28/28 [==============================] - 1s 53ms/step - loss: 0.0297\n",
            "Epoch 34/100\n",
            "28/28 [==============================] - 2s 54ms/step - loss: 0.0292\n",
            "Epoch 35/100\n",
            "28/28 [==============================] - 2s 56ms/step - loss: 0.0292\n",
            "Epoch 36/100\n",
            "28/28 [==============================] - 1s 53ms/step - loss: 0.0297\n",
            "Epoch 37/100\n",
            "28/28 [==============================] - 1s 52ms/step - loss: 0.0316\n",
            "Epoch 38/100\n",
            "28/28 [==============================] - 1s 53ms/step - loss: 0.0313\n",
            "Epoch 39/100\n",
            "28/28 [==============================] - 2s 54ms/step - loss: 0.0311\n",
            "Epoch 40/100\n",
            "28/28 [==============================] - 1s 52ms/step - loss: 0.0283\n",
            "Epoch 41/100\n",
            "28/28 [==============================] - 2s 55ms/step - loss: 0.0287\n",
            "Epoch 42/100\n",
            "28/28 [==============================] - 2s 55ms/step - loss: 0.0283\n",
            "Epoch 43/100\n",
            "28/28 [==============================] - 2s 55ms/step - loss: 0.0287\n",
            "Epoch 44/100\n",
            "28/28 [==============================] - 2s 55ms/step - loss: 0.0291\n",
            "Epoch 45/100\n",
            "28/28 [==============================] - 2s 54ms/step - loss: 0.0290\n",
            "Epoch 46/100\n",
            "28/28 [==============================] - 1s 53ms/step - loss: 0.0308\n",
            "Epoch 47/100\n",
            "28/28 [==============================] - 1s 53ms/step - loss: 0.0306\n",
            "Epoch 48/100\n",
            "28/28 [==============================] - 2s 55ms/step - loss: 0.0295\n",
            "Epoch 49/100\n",
            "28/28 [==============================] - 2s 55ms/step - loss: 0.0289\n",
            "Epoch 50/100\n",
            "28/28 [==============================] - 2s 54ms/step - loss: 0.0305\n",
            "Epoch 51/100\n",
            "28/28 [==============================] - 1s 54ms/step - loss: 0.0291\n",
            "Epoch 52/100\n",
            "28/28 [==============================] - 2s 54ms/step - loss: 0.0284\n",
            "Epoch 53/100\n",
            "28/28 [==============================] - 2s 55ms/step - loss: 0.0289\n",
            "Epoch 54/100\n",
            "28/28 [==============================] - 1s 52ms/step - loss: 0.0282\n",
            "Epoch 55/100\n",
            "28/28 [==============================] - 2s 54ms/step - loss: 0.0284\n",
            "Epoch 56/100\n",
            "28/28 [==============================] - 2s 55ms/step - loss: 0.0276\n",
            "Epoch 57/100\n",
            "28/28 [==============================] - 1s 52ms/step - loss: 0.0288\n",
            "Epoch 58/100\n",
            "28/28 [==============================] - 1s 52ms/step - loss: 0.0284\n",
            "Epoch 59/100\n",
            "28/28 [==============================] - 1s 53ms/step - loss: 0.0274\n",
            "Epoch 60/100\n",
            "28/28 [==============================] - 2s 54ms/step - loss: 0.0285\n",
            "Epoch 61/100\n",
            "28/28 [==============================] - 2s 56ms/step - loss: 0.0292\n",
            "Epoch 62/100\n",
            "28/28 [==============================] - 1s 53ms/step - loss: 0.0281\n",
            "Epoch 63/100\n",
            "28/28 [==============================] - 1s 53ms/step - loss: 0.0271\n",
            "Epoch 64/100\n",
            "28/28 [==============================] - 2s 55ms/step - loss: 0.0275\n",
            "Epoch 65/100\n",
            "28/28 [==============================] - 2s 55ms/step - loss: 0.0280\n",
            "Epoch 66/100\n",
            "28/28 [==============================] - 1s 53ms/step - loss: 0.0328\n",
            "Epoch 67/100\n",
            "28/28 [==============================] - 2s 56ms/step - loss: 0.0302\n",
            "Epoch 68/100\n",
            "28/28 [==============================] - 3s 92ms/step - loss: 0.0281\n",
            "Epoch 69/100\n",
            "28/28 [==============================] - 2s 63ms/step - loss: 0.0280\n",
            "Epoch 70/100\n",
            "28/28 [==============================] - 1s 53ms/step - loss: 0.0287\n",
            "Epoch 71/100\n",
            "28/28 [==============================] - 2s 54ms/step - loss: 0.0279\n",
            "Epoch 72/100\n",
            "28/28 [==============================] - 1s 52ms/step - loss: 0.0277\n",
            "Epoch 73/100\n",
            "28/28 [==============================] - 2s 54ms/step - loss: 0.0273\n",
            "Epoch 74/100\n",
            "28/28 [==============================] - 1s 53ms/step - loss: 0.0294\n",
            "Epoch 75/100\n",
            "28/28 [==============================] - 2s 55ms/step - loss: 0.0294\n",
            "Epoch 76/100\n",
            "28/28 [==============================] - 1s 53ms/step - loss: 0.0279\n",
            "Epoch 77/100\n",
            "28/28 [==============================] - 1s 53ms/step - loss: 0.0277\n",
            "Epoch 78/100\n",
            "28/28 [==============================] - 2s 55ms/step - loss: 0.0275\n",
            "Epoch 79/100\n",
            "28/28 [==============================] - 2s 54ms/step - loss: 0.0280\n",
            "Epoch 80/100\n",
            "28/28 [==============================] - 2s 54ms/step - loss: 0.0265\n",
            "Epoch 81/100\n",
            "28/28 [==============================] - 1s 52ms/step - loss: 0.0271\n",
            "Epoch 82/100\n",
            "28/28 [==============================] - 1s 54ms/step - loss: 0.0266\n",
            "Epoch 83/100\n",
            "28/28 [==============================] - 2s 54ms/step - loss: 0.0277\n",
            "Epoch 84/100\n",
            "28/28 [==============================] - 1s 53ms/step - loss: 0.0274\n",
            "Epoch 85/100\n",
            "28/28 [==============================] - 2s 54ms/step - loss: 0.0272\n",
            "Epoch 86/100\n",
            "28/28 [==============================] - 2s 54ms/step - loss: 0.0274\n",
            "Epoch 87/100\n",
            "28/28 [==============================] - 1s 53ms/step - loss: 0.0270\n",
            "Epoch 88/100\n",
            "28/28 [==============================] - 1s 52ms/step - loss: 0.0281\n",
            "Epoch 89/100\n",
            "28/28 [==============================] - 1s 53ms/step - loss: 0.0269\n",
            "Epoch 90/100\n",
            "28/28 [==============================] - 2s 54ms/step - loss: 0.0284\n",
            "Epoch 91/100\n",
            "28/28 [==============================] - 2s 54ms/step - loss: 0.0286\n",
            "Epoch 92/100\n",
            "28/28 [==============================] - 1s 52ms/step - loss: 0.0283\n",
            "Epoch 93/100\n",
            "28/28 [==============================] - 2s 54ms/step - loss: 0.0285\n",
            "Epoch 94/100\n",
            "28/28 [==============================] - 2s 55ms/step - loss: 0.0294\n",
            "Epoch 95/100\n",
            "28/28 [==============================] - 1s 53ms/step - loss: 0.0274\n",
            "Epoch 96/100\n",
            "28/28 [==============================] - 1s 53ms/step - loss: 0.0266\n",
            "Epoch 97/100\n",
            "28/28 [==============================] - 2s 53ms/step - loss: 0.0266\n",
            "Epoch 98/100\n",
            "28/28 [==============================] - 1s 53ms/step - loss: 0.0276\n",
            "Epoch 99/100\n",
            "28/28 [==============================] - 1s 53ms/step - loss: 0.0269\n",
            "Epoch 100/100\n",
            "28/28 [==============================] - 1s 51ms/step - loss: 0.0274\n"
          ]
        },
        {
          "output_type": "execute_result",
          "data": {
            "text/plain": [
              "<keras.callbacks.History at 0x7f4f40166c50>"
            ]
          },
          "metadata": {},
          "execution_count": 18
        }
      ]
    },
    {
      "cell_type": "code",
      "source": [
        "# applying predictin model to training data\n",
        "train_predict=ts_model.predict(X_train)\n",
        "train_predict=scaler.inverse_transform(train_predict)\n",
        "print(train_predict[:5])"
      ],
      "metadata": {
        "id": "djBxU2yW3_Dg",
        "colab": {
          "base_uri": "https://localhost:8080/"
        },
        "outputId": "9cfc3486-6d11-4990-b0d1-a596d8cc9157"
      },
      "execution_count": null,
      "outputs": [
        {
          "output_type": "stream",
          "name": "stdout",
          "text": [
            "[[33515.074]\n",
            " [34267.87 ]\n",
            " [34222.188]\n",
            " [34800.758]\n",
            " [34741.094]]\n"
          ]
        }
      ]
    },
    {
      "cell_type": "code",
      "execution_count": null,
      "metadata": {
        "id": "bqsxU9DZbHEF",
        "colab": {
          "base_uri": "https://localhost:8080/"
        },
        "outputId": "57986e31-aa16-4e7e-8881-5f729e667c41"
      },
      "outputs": [
        {
          "output_type": "stream",
          "name": "stdout",
          "text": [
            "(434, 1)\n",
            "[[0.59867278]\n",
            " [0.59898878]\n",
            " [0.60214884]\n",
            " [0.60214884]\n",
            " [0.611155  ]]\n"
          ]
        }
      ],
      "source": [
        "# making testing dataset\n",
        "commodity_test = commodity_ar[commodity_train_len:]\n",
        "print(commodity_test.shape)\n",
        "# normalizing testing dataset\n",
        "commodity_test_scaled = scaler.transform(commodity_test)\n",
        "print(commodity_test_scaled[:5])"
      ]
    },
    {
      "cell_type": "code",
      "execution_count": null,
      "metadata": {
        "id": "uRoIfJUza_yT",
        "colab": {
          "base_uri": "https://localhost:8080/"
        },
        "outputId": "3418ce69-9c02-4a93-e4b1-efb1d9802345"
      },
      "outputs": [
        {
          "output_type": "stream",
          "name": "stdout",
          "text": [
            "(427, 7) (427,)\n"
          ]
        }
      ],
      "source": [
        "# applying new function to create matrix testing data\n",
        "X_test, y_test = create_dataset(commodity_test_scaled, time_step)\n",
        "print(X_test.shape, y_test.shape)"
      ]
    },
    {
      "cell_type": "code",
      "execution_count": null,
      "metadata": {
        "id": "ntLp3FXga9IW",
        "colab": {
          "base_uri": "https://localhost:8080/"
        },
        "outputId": "cac4b9f9-c1fd-438a-b89e-212ac4bc1b9b"
      },
      "outputs": [
        {
          "output_type": "stream",
          "name": "stdout",
          "text": [
            "(427, 7) (427,)\n",
            "(427, 7, 1)\n"
          ]
        }
      ],
      "source": [
        "# reshaping testing data to fit LSTM model\n",
        "print(X_test.shape, y_test.shape)\n",
        "X_test = np.reshape(X_test, (X_test.shape[0], X_test.shape[1], 1))\n",
        "print(X_test.shape)"
      ]
    },
    {
      "cell_type": "code",
      "execution_count": null,
      "metadata": {
        "id": "iBxr3UbUa8pt",
        "colab": {
          "base_uri": "https://localhost:8080/"
        },
        "outputId": "2675b505-86bf-4b49-898d-335959d8cfdb"
      },
      "outputs": [
        {
          "output_type": "stream",
          "name": "stdout",
          "text": [
            "[[33040.793]\n",
            " [33542.8  ]\n",
            " [33688.613]\n",
            " [32818.332]\n",
            " [32809.145]]\n"
          ]
        }
      ],
      "source": [
        "# applying prediction model to testing data\n",
        "test_predict=ts_model.predict(X_test)\n",
        "# transform to original form\n",
        "test_predict=scaler.inverse_transform(test_predict)\n",
        "print(test_predict[:5])"
      ]
    },
    {
      "cell_type": "code",
      "execution_count": null,
      "metadata": {
        "id": "T2Qd3UOfdN2v",
        "colab": {
          "base_uri": "https://localhost:8080/"
        },
        "outputId": "a70322a3-bdd9-4fe1-9ba0-7628a9254201"
      },
      "outputs": [
        {
          "output_type": "stream",
          "name": "stdout",
          "text": [
            "(427, 1) (1743, 1)\n",
            "Testing Data Prediction with GRU MAPE score: 0.876875961685979\n",
            "Training Data Prediction with GRU MAPE score: 1.2155968548873262\n"
          ]
        }
      ],
      "source": [
        "# mape calculation\n",
        "def mape(actual, pred): \n",
        "    actual, pred = np.array(actual), np.array(pred)\n",
        "    return np.mean(np.abs((actual - pred) / actual)) * 100\n",
        "\n",
        "\n",
        "commodity_test_data = commodity_ar[len(train_predict)+\n",
        "                                   (time_step*2):len(commodity_ar)]\n",
        "commodity_train_data = commodity_ar[time_step:commodity_train_len]\n",
        "print(commodity_test_data.shape, commodity_train_data.shape)\n",
        "print('Testing Data Prediction with GRU MAPE score:',\n",
        "      mape(commodity_test_data, test_predict))\n",
        "print('Training Data Prediction with GRU MAPE score:',\n",
        "      mape(commodity_train_data, train_predict))"
      ]
    },
    {
      "cell_type": "code",
      "source": [
        "# MAE and MdAE calculation\n",
        "print('GRU MdAE score:', median_absolute_error(commodity_test_data,\n",
        "                                                test_predict))\n",
        "print('GRU MAE score:', mean_absolute_error(commodity_test_data,\n",
        "                                             test_predict))"
      ],
      "metadata": {
        "colab": {
          "base_uri": "https://localhost:8080/"
        },
        "id": "x6drDddE1s8C",
        "outputId": "061e5bed-5340-43ee-e709-0eae15c413f9"
      },
      "execution_count": null,
      "outputs": [
        {
          "output_type": "stream",
          "name": "stdout",
          "text": [
            "GRU MdAE score: 109.212890625\n",
            "GRU MAE score: 305.7174006513466\n"
          ]
        }
      ]
    },
    {
      "cell_type": "code",
      "source": [
        "# MSE and RMSE calculation\n",
        "print('GRU MSE score:', mean_squared_error(commodity_test_data,\n",
        "                                            test_predict))\n",
        "print('GRU RMSE score:', mean_squared_error(commodity_test_data,\n",
        "                                             test_predict, squared=False))"
      ],
      "metadata": {
        "colab": {
          "base_uri": "https://localhost:8080/"
        },
        "id": "c9dGAvrS12IR",
        "outputId": "22fdba93-cacb-44a2-b153-262ef82dc70a"
      },
      "execution_count": null,
      "outputs": [
        {
          "output_type": "stream",
          "name": "stdout",
          "text": [
            "GRU MSE score: 722828.3376156363\n",
            "GRU RMSE score: 850.1931178359633\n"
          ]
        }
      ]
    },
    {
      "cell_type": "code",
      "source": [
        "print('GRU MAPE score:',\n",
        "      mape(commodity_test_data, test_predict))\n",
        "print('GRU MAE score:', mean_absolute_error(commodity_test_data,\n",
        "                                             test_predict))"
      ],
      "metadata": {
        "colab": {
          "base_uri": "https://localhost:8080/"
        },
        "id": "waKPZ0oaNUIN",
        "outputId": "63351487-0b55-47be-cca2-36b2223f85cc"
      },
      "execution_count": null,
      "outputs": [
        {
          "output_type": "stream",
          "name": "stdout",
          "text": [
            "GRU MAPE score: 0.876875961685979\n",
            "GRU MAE score: 305.7174006513466\n"
          ]
        }
      ]
    },
    {
      "cell_type": "code",
      "source": [
        "test_predict=pd.DataFrame(test_predict)\n",
        "test_predict.index=commodity.index[len(train_predict)+\n",
        "                                   (time_step*2):len(commodity_ar)]"
      ],
      "metadata": {
        "id": "pRz2gPdaLw6Q"
      },
      "execution_count": null,
      "outputs": []
    },
    {
      "cell_type": "code",
      "source": [
        "commodity_test_data=pd.DataFrame(commodity_test_data)\n",
        "commodity_test_data.index=commodity.index[len(train_predict)+\n",
        "                                   (time_step*2):len(commodity_ar)]"
      ],
      "metadata": {
        "id": "ztbvQt0bYKTW"
      },
      "execution_count": null,
      "outputs": []
    },
    {
      "cell_type": "code",
      "execution_count": null,
      "metadata": {
        "id": "O-ssBqmg0XgE",
        "colab": {
          "base_uri": "https://localhost:8080/",
          "height": 981
        },
        "outputId": "270386d4-f6ae-48e9-dca3-142d4e9c9353"
      },
      "outputs": [
        {
          "output_type": "execute_result",
          "data": {
            "text/plain": [
              "(array([18561, 18628, 18718, 18809, 18901, 18987]),\n",
              " <a list of 6 Text major ticklabel objects>)"
            ]
          },
          "metadata": {},
          "execution_count": 30
        },
        {
          "output_type": "display_data",
          "data": {
            "text/plain": [
              "<Figure size 2016x1728 with 1 Axes>"
            ],
            "image/png": "[encoded data removed]"
          },
          "metadata": {
            "needs_background": "light"
          }
        }
      ],
      "source": [
        "fig,ax=plt.subplots(figsize=(28,24))\n",
        "commodity_test_data.plot(ax=ax,linewidth=3)\n",
        "test_predict.plot(ax=ax,linewidth=3, c='g')\n",
        "ax.set_title(f'Model prediction vs actual price of {comm_name}',\n",
        "             size=40)\n",
        "ax.legend([\n",
        "           \"aktual\",\n",
        "           \"gru\",\n",
        "           ],fontsize=40)\n",
        "ax.set_ylabel('Price in IDR', size=40)\n",
        "ax.set_xlabel('Date', size=40)\n",
        "plt.yticks(fontsize=30,)\n",
        "plt.xticks(fontsize=30,)"
      ]
    },
    {
      "cell_type": "code",
      "source": [
        "pd.DataFrame(test_predict, columns=[0]).to_csv('revised_gru_broiler meat.csv')\n",
        "files.download(\"revised_gru_broiler meat.csv\")"
      ],
      "metadata": {
        "id": "4S9323mIK63O",
        "colab": {
          "base_uri": "https://localhost:8080/",
          "height": 17
        },
        "outputId": "1e622df8-f02c-4b3a-a691-3ce8a8228c7b"
      },
      "execution_count": null,
      "outputs": [
        {
          "output_type": "display_data",
          "data": {
            "text/plain": [
              "<IPython.core.display.Javascript object>"
            ],
            "application/javascript": [
              "\n",
              "    async function download(id, filename, size) {\n",
              "      if (!google.colab.kernel.accessAllowed) {\n",
              "        return;\n",
              "      }\n",
              "      const div = document.createElement('div');\n",
              "      const label = document.createElement('label');\n",
              "      label.textContent = `Downloading \"${filename}\": `;\n",
              "      div.appendChild(label);\n",
              "      const progress = document.createElement('progress');\n",
              "      progress.max = size;\n",
              "      div.appendChild(progress);\n",
              "      document.body.appendChild(div);\n",
              "\n",
              "      const buffers = [];\n",
              "      let downloaded = 0;\n",
              "\n",
              "      const channel = await google.colab.kernel.comms.open(id);\n",
              "      // Send a message to notify the kernel that we're ready.\n",
              "      channel.send({})\n",
              "\n",
              "      for await (const message of channel.messages) {\n",
              "        // Send a message to notify the kernel that we're ready.\n",
              "        channel.send({})\n",
              "        if (message.buffers) {\n",
              "          for (const buffer of message.buffers) {\n",
              "            buffers.push(buffer);\n",
              "            downloaded += buffer.byteLength;\n",
              "            progress.value = downloaded;\n",
              "          }\n",
              "        }\n",
              "      }\n",
              "      const blob = new Blob(buffers, {type: 'application/binary'});\n",
              "      const a = document.createElement('a');\n",
              "      a.href = window.URL.createObjectURL(blob);\n",
              "      a.download = filename;\n",
              "      div.appendChild(a);\n",
              "      a.click();\n",
              "      div.remove();\n",
              "    }\n",
              "  "
            ]
          },
          "metadata": {}
        },
        {
          "output_type": "display_data",
          "data": {
            "text/plain": [
              "<IPython.core.display.Javascript object>"
            ],
            "application/javascript": [
              "download(\"download_9335e1f2-2a49-4ead-b2f1-5d87c16a5e05\", \"revised_gru_broiler meat.csv\", 8792)"
            ]
          },
          "metadata": {}
        }
      ]
    }
  ],
  "metadata": {
    "colab": {
      "provenance": []
    },
    "kernelspec": {
      "display_name": "Python 3",
      "name": "python3"
    },
    "language_info": {
      "name": "python"
    },
    "gpuClass": "standard",
    "accelerator": "GPU"
  },
  "nbformat": 4,
  "nbformat_minor": 0
}