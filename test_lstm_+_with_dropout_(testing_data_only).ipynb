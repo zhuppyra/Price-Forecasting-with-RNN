{
  "cells": [
    {
      "cell_type": "code",
      "execution_count": 1,
      "metadata": {
        "id": "ypOm9-M8Wd9D"
      },
      "outputs": [],
      "source": [
        "# Import modules\n",
        "from google.colab import files\n",
        "import math\n",
        "import pandas as pd\n",
        "import numpy as np\n",
        "import matplotlib.pyplot as plt\n",
        "from sklearn.preprocessing import MinMaxScaler\n",
        "from sklearn.metrics import mean_squared_error, median_absolute_error, mean_absolute_error\n",
        "from keras.models import Sequential\n",
        "from keras.layers import Dense, LSTM, Input, Dropout\n",
        "from statsmodels.tsa.seasonal import seasonal_decompose\n",
        "import tensorflow as tf\n",
        "import time"
      ]
    },
    {
      "cell_type": "code",
      "execution_count": 2,
      "metadata": {
        "id": "UMAdx_gc_hjO"
      },
      "outputs": [],
      "source": [
        "#t1_start = time.process_time() "
      ]
    },
    {
      "cell_type": "code",
      "execution_count": 3,
      "metadata": {
        "colab": {
          "base_uri": "https://localhost:8080/",
          "height": 386
        },
        "id": "VvC14em_Ws00",
        "outputId": "4cc627b3-6347-46ac-c272-431cb6bd11de"
      },
      "outputs": [
        {
          "output_type": "execute_result",
          "data": {
            "text/plain": [
              "            Shallot   Garlic     Rice  Chili pepper  Cayenne pepper  \\\n",
              "Date                                                                  \n",
              "2016-01-01  35774.0  27588.0  10806.0       39831.0         48486.0   \n",
              "2016-01-02  35068.0  27750.0  10809.0       40191.0         48146.0   \n",
              "2016-01-03  35318.0  27728.0  10809.0       39581.0         47396.0   \n",
              "2016-01-04  35757.0  28084.0  10835.0       39251.0         45896.0   \n",
              "2016-01-05  36236.0  28037.0  10835.0       39241.0         44021.0   \n",
              "\n",
              "            Broiler meat  Topside beef  Granulated sugar  Cooking oil  \\\n",
              "Date                                                                    \n",
              "2016-01-01       33303.0      110235.0           12838.0      15027.0   \n",
              "2016-01-02       33479.0      110265.0           12909.0      15092.0   \n",
              "2016-01-03       33362.0      110338.0           12909.0      15092.0   \n",
              "2016-01-04       34224.0      110306.0           13017.0      14956.0   \n",
              "2016-01-05       34116.0      110245.0           13020.0      14962.0   \n",
              "\n",
              "            Chicken egg  \n",
              "Date                     \n",
              "2016-01-01      25743.0  \n",
              "2016-01-02      25774.0  \n",
              "2016-01-03      25700.0  \n",
              "2016-01-04      25564.0  \n",
              "2016-01-05      25586.0  "
            ],
            "text/html": [
              "\n",
              "  <div id=\"df-0d41dcd3-e22d-400c-9119-31b9a90bfd38\">\n",
              "    <div class=\"colab-df-container\">\n",
              "      <div>\n",
              "<style scoped>\n",
              "    .dataframe tbody tr th:only-of-type {\n",
              "        vertical-align: middle;\n",
              "    }\n",
              "\n",
              "    .dataframe tbody tr th {\n",
              "        vertical-align: top;\n",
              "    }\n",
              "\n",
              "    .dataframe thead th {\n",
              "        text-align: right;\n",
              "    }\n",
              "</style>\n",
              "<table border=\"1\" class=\"dataframe\">\n",
              "  <thead>\n",
              "    <tr style=\"text-align: right;\">\n",
              "      <th></th>\n",
              "      <th>Shallot</th>\n",
              "      <th>Garlic</th>\n",
              "      <th>Rice</th>\n",
              "      <th>Chili pepper</th>\n",
              "      <th>Cayenne pepper</th>\n",
              "      <th>Broiler meat</th>\n",
              "      <th>Topside beef</th>\n",
              "      <th>Granulated sugar</th>\n",
              "      <th>Cooking oil</th>\n",
              "      <th>Chicken egg</th>\n",
              "    </tr>\n",
              "    <tr>\n",
              "      <th>Date</th>\n",
              "      <th></th>\n",
              "      <th></th>\n",
              "      <th></th>\n",
              "      <th></th>\n",
              "      <th></th>\n",
              "      <th></th>\n",
              "      <th></th>\n",
              "      <th></th>\n",
              "      <th></th>\n",
              "      <th></th>\n",
              "    </tr>\n",
              "  </thead>\n",
              "  <tbody>\n",
              "    <tr>\n",
              "      <th>2016-01-01</th>\n",
              "      <td>35774.0</td>\n",
              "      <td>27588.0</td>\n",
              "      <td>10806.0</td>\n",
              "      <td>39831.0</td>\n",
              "      <td>48486.0</td>\n",
              "      <td>33303.0</td>\n",
              "      <td>110235.0</td>\n",
              "      <td>12838.0</td>\n",
              "      <td>15027.0</td>\n",
              "      <td>25743.0</td>\n",
              "    </tr>\n",
              "    <tr>\n",
              "      <th>2016-01-02</th>\n",
              "      <td>35068.0</td>\n",
              "      <td>27750.0</td>\n",
              "      <td>10809.0</td>\n",
              "      <td>40191.0</td>\n",
              "      <td>48146.0</td>\n",
              "      <td>33479.0</td>\n",
              "      <td>110265.0</td>\n",
              "      <td>12909.0</td>\n",
              "      <td>15092.0</td>\n",
              "      <td>25774.0</td>\n",
              "    </tr>\n",
              "    <tr>\n",
              "      <th>2016-01-03</th>\n",
              "      <td>35318.0</td>\n",
              "      <td>27728.0</td>\n",
              "      <td>10809.0</td>\n",
              "      <td>39581.0</td>\n",
              "      <td>47396.0</td>\n",
              "      <td>33362.0</td>\n",
              "      <td>110338.0</td>\n",
              "      <td>12909.0</td>\n",
              "      <td>15092.0</td>\n",
              "      <td>25700.0</td>\n",
              "    </tr>\n",
              "    <tr>\n",
              "      <th>2016-01-04</th>\n",
              "      <td>35757.0</td>\n",
              "      <td>28084.0</td>\n",
              "      <td>10835.0</td>\n",
              "      <td>39251.0</td>\n",
              "      <td>45896.0</td>\n",
              "      <td>34224.0</td>\n",
              "      <td>110306.0</td>\n",
              "      <td>13017.0</td>\n",
              "      <td>14956.0</td>\n",
              "      <td>25564.0</td>\n",
              "    </tr>\n",
              "    <tr>\n",
              "      <th>2016-01-05</th>\n",
              "      <td>36236.0</td>\n",
              "      <td>28037.0</td>\n",
              "      <td>10835.0</td>\n",
              "      <td>39241.0</td>\n",
              "      <td>44021.0</td>\n",
              "      <td>34116.0</td>\n",
              "      <td>110245.0</td>\n",
              "      <td>13020.0</td>\n",
              "      <td>14962.0</td>\n",
              "      <td>25586.0</td>\n",
              "    </tr>\n",
              "  </tbody>\n",
              "</table>\n",
              "</div>\n",
              "      <button class=\"colab-df-convert\" onclick=\"convertToInteractive('df-0d41dcd3-e22d-400c-9119-31b9a90bfd38')\"\n",
              "              title=\"Convert this dataframe to an interactive table.\"\n",
              "              style=\"display:none;\">\n",
              "        \n",
              "  <svg xmlns=\"http://www.w3.org/2000/svg\" height=\"24px\"viewBox=\"0 0 24 24\"\n",
              "       width=\"24px\">\n",
              "    <path d=\"M0 0h24v24H0V0z\" fill=\"none\"/>\n",
              "    <path d=\"M18.56 5.44l.94 2.06.94-2.06 2.06-.94-2.06-.94-.94-2.06-.94 2.06-2.06.94zm-11 1L8.5 8.5l.94-2.06 2.06-.94-2.06-.94L8.5 2.5l-.94 2.06-2.06.94zm10 10l.94 2.06.94-2.06 2.06-.94-2.06-.94-.94-2.06-.94 2.06-2.06.94z\"/><path d=\"M17.41 7.96l-1.37-1.37c-.4-.4-.92-.59-1.43-.59-.52 0-1.04.2-1.43.59L10.3 9.45l-7.72 7.72c-.78.78-.78 2.05 0 2.83L4 21.41c.39.39.9.59 1.41.59.51 0 1.02-.2 1.41-.59l7.78-7.78 2.81-2.81c.8-.78.8-2.07 0-2.86zM5.41 20L4 18.59l7.72-7.72 1.47 1.35L5.41 20z\"/>\n",
              "  </svg>\n",
              "      </button>\n",
              "      \n",
              "  <style>\n",
              "    .colab-df-container {\n",
              "      display:flex;\n",
              "      flex-wrap:wrap;\n",
              "      gap: 12px;\n",
              "    }\n",
              "\n",
              "    .colab-df-convert {\n",
              "      background-color: #E8F0FE;\n",
              "      border: none;\n",
              "      border-radius: 50%;\n",
              "      cursor: pointer;\n",
              "      display: none;\n",
              "      fill: #1967D2;\n",
              "      height: 32px;\n",
              "      padding: 0 0 0 0;\n",
              "      width: 32px;\n",
              "    }\n",
              "\n",
              "    .colab-df-convert:hover {\n",
              "      background-color: #E2EBFA;\n",
              "      box-shadow: 0px 1px 2px rgba(60, 64, 67, 0.3), 0px 1px 3px 1px rgba(60, 64, 67, 0.15);\n",
              "      fill: #174EA6;\n",
              "    }\n",
              "\n",
              "    [theme=dark] .colab-df-convert {\n",
              "      background-color: #3B4455;\n",
              "      fill: #D2E3FC;\n",
              "    }\n",
              "\n",
              "    [theme=dark] .colab-df-convert:hover {\n",
              "      background-color: #434B5C;\n",
              "      box-shadow: 0px 1px 3px 1px rgba(0, 0, 0, 0.15);\n",
              "      filter: drop-shadow(0px 1px 2px rgba(0, 0, 0, 0.3));\n",
              "      fill: #FFFFFF;\n",
              "    }\n",
              "  </style>\n",
              "\n",
              "      <script>\n",
              "        const buttonEl =\n",
              "          document.querySelector('#df-0d41dcd3-e22d-400c-9119-31b9a90bfd38 button.colab-df-convert');\n",
              "        buttonEl.style.display =\n",
              "          google.colab.kernel.accessAllowed ? 'block' : 'none';\n",
              "\n",
              "        async function convertToInteractive(key) {\n",
              "          const element = document.querySelector('#df-0d41dcd3-e22d-400c-9119-31b9a90bfd38');\n",
              "          const dataTable =\n",
              "            await google.colab.kernel.invokeFunction('convertToInteractive',\n",
              "                                                     [key], {});\n",
              "          if (!dataTable) return;\n",
              "\n",
              "          const docLinkHtml = 'Like what you see? Visit the ' +\n",
              "            '<a target=\"_blank\" href=https://colab.research.google.com/notebooks/data_table.ipynb>data table notebook</a>'\n",
              "            + ' to learn more about interactive tables.';\n",
              "          element.innerHTML = '';\n",
              "          dataTable['output_type'] = 'display_data';\n",
              "          await google.colab.output.renderOutput(dataTable, element);\n",
              "          const docLink = document.createElement('div');\n",
              "          docLink.innerHTML = docLinkHtml;\n",
              "          element.appendChild(docLink);\n",
              "        }\n",
              "      </script>\n",
              "    </div>\n",
              "  </div>\n",
              "  "
            ]
          },
          "metadata": {},
          "execution_count": 3
        }
      ],
      "source": [
        "url=\"https://raw.githubusercontent.com/zhuppyra/price-forecasting/main/Data%20harga%202016-2021%2010%20komoditas.csv\"\n",
        "df=pd.read_csv(url, index_col='Date', parse_dates=True)\n",
        "df.index.freq='D'\n",
        "df.head()"
      ]
    },
    {
      "cell_type": "code",
      "execution_count": 4,
      "metadata": {
        "colab": {
          "base_uri": "https://localhost:8080/"
        },
        "id": "7MkjKKPUW-bR",
        "outputId": "ffd9f9a9-b94d-4336-8ddb-42c727ca046e"
      },
      "outputs": [
        {
          "output_type": "execute_result",
          "data": {
            "text/plain": [
              "True"
            ]
          },
          "metadata": {},
          "execution_count": 4
        }
      ],
      "source": [
        "# checking for missing data\n",
        "df.isna().any().any()"
      ]
    },
    {
      "cell_type": "code",
      "execution_count": 5,
      "metadata": {
        "colab": {
          "base_uri": "https://localhost:8080/"
        },
        "id": "UuXYoQJjXAvd",
        "outputId": "46dcf914-0582-4c9e-d154-b3bfaa6b8d2c"
      },
      "outputs": [
        {
          "output_type": "stream",
          "name": "stdout",
          "text": [
            "(2192, 10)\n",
            "False\n"
          ]
        }
      ],
      "source": [
        "# filling missing data using last observation carried forward (LOCF)\n",
        "df1 = df.ffill()\n",
        "# print dataframe shape\n",
        "print(df1.shape)\n",
        "# rechecking for missing data\n",
        "print(df1.isna().any().any())"
      ]
    },
    {
      "cell_type": "code",
      "execution_count": 6,
      "metadata": {
        "colab": {
          "base_uri": "https://localhost:8080/"
        },
        "id": "LD9nW3TtPW4m",
        "outputId": "1b0bace6-d51c-4c5c-fd64-d8ecb627421b"
      },
      "outputs": [
        {
          "output_type": "stream",
          "name": "stdout",
          "text": [
            "            Shallot   Garlic     Rice  Chili pepper  Cayenne pepper  \\\n",
            "Date                                                                  \n",
            "2016-01-04  35757.0  28084.0  10835.0       39251.0         45896.0   \n",
            "2016-01-05  36236.0  28037.0  10835.0       39241.0         44021.0   \n",
            "2016-01-06  36389.0  27879.0  10841.0       38280.0         43209.0   \n",
            "2016-01-07  36422.0  27990.0  10839.0       37111.0         42636.0   \n",
            "2016-01-08  36125.0  27925.0  10827.0       35803.0         41440.0   \n",
            "...             ...      ...      ...           ...             ...   \n",
            "2021-12-22  28083.0  27859.0  10312.0       51690.0         91394.0   \n",
            "2021-12-23  28154.0  27898.0  10313.0       51757.0         92519.0   \n",
            "2021-12-24  28329.0  28068.0  10329.0       51266.0         94845.0   \n",
            "2021-12-25  28329.0  28068.0  10329.0       51266.0         94845.0   \n",
            "2021-12-26  28329.0  28068.0  10329.0       51266.0         94845.0   \n",
            "\n",
            "            Broiler meat  Topside beef  Granulated sugar  Cooking oil  \\\n",
            "Date                                                                    \n",
            "2016-01-04       34224.0      110306.0           13017.0      14956.0   \n",
            "2016-01-05       34116.0      110245.0           13020.0      14962.0   \n",
            "2016-01-06       34475.0      110195.0           13029.0      14940.0   \n",
            "2016-01-07       34367.0      110391.0           13038.0      14945.0   \n",
            "2016-01-08       34293.0      110546.0           13061.0      14953.0   \n",
            "...                  ...           ...               ...          ...   \n",
            "2021-12-22       35665.0      125789.0           13157.0      20037.0   \n",
            "2021-12-23       35806.0      126090.0           13172.0      20036.0   \n",
            "2021-12-24       36043.0      126293.0           13192.0      20028.0   \n",
            "2021-12-25       36043.0      126293.0           13192.0      20028.0   \n",
            "2021-12-26       36043.0      126293.0           13192.0      20028.0   \n",
            "\n",
            "            Chicken egg  \n",
            "Date                     \n",
            "2016-01-04      25564.0  \n",
            "2016-01-05      25586.0  \n",
            "2016-01-06      25438.0  \n",
            "2016-01-07      25432.0  \n",
            "2016-01-08      25572.0  \n",
            "...                 ...  \n",
            "2021-12-22      27486.0  \n",
            "2021-12-23      27753.0  \n",
            "2021-12-24      28614.0  \n",
            "2021-12-25      28614.0  \n",
            "2021-12-26      28614.0  \n",
            "\n",
            "[2184 rows x 10 columns]\n"
          ]
        }
      ],
      "source": [
        "# only include start of the week/end of week\n",
        "df1 = df1.iloc[3:]\n",
        "df1 = df1.iloc[:-5]\n",
        "print(df1)"
      ]
    },
    {
      "cell_type": "code",
      "execution_count": 7,
      "metadata": {
        "colab": {
          "base_uri": "https://localhost:8080/"
        },
        "id": "ORNBkuze16e5",
        "outputId": "6b83e0f6-4f3e-4175-bba9-2d698294ffcc"
      },
      "outputs": [
        {
          "output_type": "stream",
          "name": "stdout",
          "text": [
            "            Shallot        Garlic          Rice   Chili pepper  \\\n",
            "count   2184.000000   2184.000000   2184.000000    2184.000000   \n",
            "mean   33308.605311  31554.568223  10573.712454   37079.377289   \n",
            "std     6671.733968   7130.177343    192.206923    9084.893179   \n",
            "min    20525.000000  17700.000000   8500.000000   20000.000000   \n",
            "25%    28321.500000  26734.000000  10479.000000   30645.250000   \n",
            "50%    32841.000000  29411.500000  10566.000000   34507.000000   \n",
            "75%    37114.250000  36438.250000  10651.000000   41768.750000   \n",
            "max    82900.000000  69900.000000  11751.000000  123900.000000   \n",
            "\n",
            "       Cayenne pepper  Broiler meat   Topside beef  Granulated sugar  \\\n",
            "count     2184.000000   2184.000000    2184.000000       2184.000000   \n",
            "mean     49696.264194  33304.434066  118777.253663      13403.568681   \n",
            "std      17684.264109   2277.716259    4412.704624       1264.572248   \n",
            "min      12000.000000  21700.000000   90000.000000      11500.000000   \n",
            "25%      37267.250000  31764.250000  116135.000000      12776.500000   \n",
            "50%      43814.500000  33187.500000  118525.500000      13073.000000   \n",
            "75%      55991.750000  34852.500000  120531.000000      13730.500000   \n",
            "max     143900.000000  45000.000000  150000.000000      19750.000000   \n",
            "\n",
            "        Cooking oil   Chicken egg  \n",
            "count   2184.000000   2184.000000  \n",
            "mean   15051.910714  24796.226648  \n",
            "std      818.174040   1554.725467  \n",
            "min    11500.000000  11900.000000  \n",
            "25%    14712.000000  23775.250000  \n",
            "50%    14907.000000  24841.000000  \n",
            "75%    15066.000000  25861.250000  \n",
            "max    20037.000000  32000.000000  \n"
          ]
        }
      ],
      "source": [
        "print(df1.describe())"
      ]
    },
    {
      "cell_type": "code",
      "execution_count": 8,
      "metadata": {
        "colab": {
          "base_uri": "https://localhost:8080/",
          "height": 255
        },
        "id": "BejSj99BXCjB",
        "outputId": "973734f0-e481-4ef9-ff4e-441647391a35"
      },
      "outputs": [
        {
          "output_type": "stream",
          "name": "stdout",
          "text": [
            "(2184, 1)\n"
          ]
        },
        {
          "output_type": "execute_result",
          "data": {
            "text/plain": [
              "            Shallot\n",
              "Date               \n",
              "2016-01-04  35757.0\n",
              "2016-01-05  36236.0\n",
              "2016-01-06  36389.0\n",
              "2016-01-07  36422.0\n",
              "2016-01-08  36125.0"
            ],
            "text/html": [
              "\n",
              "  <div id=\"df-8bc192b3-699f-4db3-b395-419b71a8195c\">\n",
              "    <div class=\"colab-df-container\">\n",
              "      <div>\n",
              "<style scoped>\n",
              "    .dataframe tbody tr th:only-of-type {\n",
              "        vertical-align: middle;\n",
              "    }\n",
              "\n",
              "    .dataframe tbody tr th {\n",
              "        vertical-align: top;\n",
              "    }\n",
              "\n",
              "    .dataframe thead th {\n",
              "        text-align: right;\n",
              "    }\n",
              "</style>\n",
              "<table border=\"1\" class=\"dataframe\">\n",
              "  <thead>\n",
              "    <tr style=\"text-align: right;\">\n",
              "      <th></th>\n",
              "      <th>Shallot</th>\n",
              "    </tr>\n",
              "    <tr>\n",
              "      <th>Date</th>\n",
              "      <th></th>\n",
              "    </tr>\n",
              "  </thead>\n",
              "  <tbody>\n",
              "    <tr>\n",
              "      <th>2016-01-04</th>\n",
              "      <td>35757.0</td>\n",
              "    </tr>\n",
              "    <tr>\n",
              "      <th>2016-01-05</th>\n",
              "      <td>36236.0</td>\n",
              "    </tr>\n",
              "    <tr>\n",
              "      <th>2016-01-06</th>\n",
              "      <td>36389.0</td>\n",
              "    </tr>\n",
              "    <tr>\n",
              "      <th>2016-01-07</th>\n",
              "      <td>36422.0</td>\n",
              "    </tr>\n",
              "    <tr>\n",
              "      <th>2016-01-08</th>\n",
              "      <td>36125.0</td>\n",
              "    </tr>\n",
              "  </tbody>\n",
              "</table>\n",
              "</div>\n",
              "      <button class=\"colab-df-convert\" onclick=\"convertToInteractive('df-8bc192b3-699f-4db3-b395-419b71a8195c')\"\n",
              "              title=\"Convert this dataframe to an interactive table.\"\n",
              "              style=\"display:none;\">\n",
              "        \n",
              "  <svg xmlns=\"http://www.w3.org/2000/svg\" height=\"24px\"viewBox=\"0 0 24 24\"\n",
              "       width=\"24px\">\n",
              "    <path d=\"M0 0h24v24H0V0z\" fill=\"none\"/>\n",
              "    <path d=\"M18.56 5.44l.94 2.06.94-2.06 2.06-.94-2.06-.94-.94-2.06-.94 2.06-2.06.94zm-11 1L8.5 8.5l.94-2.06 2.06-.94-2.06-.94L8.5 2.5l-.94 2.06-2.06.94zm10 10l.94 2.06.94-2.06 2.06-.94-2.06-.94-.94-2.06-.94 2.06-2.06.94z\"/><path d=\"M17.41 7.96l-1.37-1.37c-.4-.4-.92-.59-1.43-.59-.52 0-1.04.2-1.43.59L10.3 9.45l-7.72 7.72c-.78.78-.78 2.05 0 2.83L4 21.41c.39.39.9.59 1.41.59.51 0 1.02-.2 1.41-.59l7.78-7.78 2.81-2.81c.8-.78.8-2.07 0-2.86zM5.41 20L4 18.59l7.72-7.72 1.47 1.35L5.41 20z\"/>\n",
              "  </svg>\n",
              "      </button>\n",
              "      \n",
              "  <style>\n",
              "    .colab-df-container {\n",
              "      display:flex;\n",
              "      flex-wrap:wrap;\n",
              "      gap: 12px;\n",
              "    }\n",
              "\n",
              "    .colab-df-convert {\n",
              "      background-color: #E8F0FE;\n",
              "      border: none;\n",
              "      border-radius: 50%;\n",
              "      cursor: pointer;\n",
              "      display: none;\n",
              "      fill: #1967D2;\n",
              "      height: 32px;\n",
              "      padding: 0 0 0 0;\n",
              "      width: 32px;\n",
              "    }\n",
              "\n",
              "    .colab-df-convert:hover {\n",
              "      background-color: #E2EBFA;\n",
              "      box-shadow: 0px 1px 2px rgba(60, 64, 67, 0.3), 0px 1px 3px 1px rgba(60, 64, 67, 0.15);\n",
              "      fill: #174EA6;\n",
              "    }\n",
              "\n",
              "    [theme=dark] .colab-df-convert {\n",
              "      background-color: #3B4455;\n",
              "      fill: #D2E3FC;\n",
              "    }\n",
              "\n",
              "    [theme=dark] .colab-df-convert:hover {\n",
              "      background-color: #434B5C;\n",
              "      box-shadow: 0px 1px 3px 1px rgba(0, 0, 0, 0.15);\n",
              "      filter: drop-shadow(0px 1px 2px rgba(0, 0, 0, 0.3));\n",
              "      fill: #FFFFFF;\n",
              "    }\n",
              "  </style>\n",
              "\n",
              "      <script>\n",
              "        const buttonEl =\n",
              "          document.querySelector('#df-8bc192b3-699f-4db3-b395-419b71a8195c button.colab-df-convert');\n",
              "        buttonEl.style.display =\n",
              "          google.colab.kernel.accessAllowed ? 'block' : 'none';\n",
              "\n",
              "        async function convertToInteractive(key) {\n",
              "          const element = document.querySelector('#df-8bc192b3-699f-4db3-b395-419b71a8195c');\n",
              "          const dataTable =\n",
              "            await google.colab.kernel.invokeFunction('convertToInteractive',\n",
              "                                                     [key], {});\n",
              "          if (!dataTable) return;\n",
              "\n",
              "          const docLinkHtml = 'Like what you see? Visit the ' +\n",
              "            '<a target=\"_blank\" href=https://colab.research.google.com/notebooks/data_table.ipynb>data table notebook</a>'\n",
              "            + ' to learn more about interactive tables.';\n",
              "          element.innerHTML = '';\n",
              "          dataTable['output_type'] = 'display_data';\n",
              "          await google.colab.output.renderOutput(dataTable, element);\n",
              "          const docLink = document.createElement('div');\n",
              "          docLink.innerHTML = docLinkHtml;\n",
              "          element.appendChild(docLink);\n",
              "        }\n",
              "      </script>\n",
              "    </div>\n",
              "  </div>\n",
              "  "
            ]
          },
          "metadata": {},
          "execution_count": 8
        }
      ],
      "source": [
        "# isolate desired commodity\n",
        "comm_name = 'Shallot'\n",
        "commodity = df1.filter([comm_name])\n",
        "print(commodity.shape)\n",
        "commodity.head()"
      ]
    },
    {
      "cell_type": "code",
      "execution_count": 9,
      "metadata": {
        "colab": {
          "base_uri": "https://localhost:8080/"
        },
        "id": "GmtF-UGq4ey2",
        "outputId": "efc7da18-e8a8-44d5-c2f6-7f37e09a0044"
      },
      "outputs": [
        {
          "output_type": "stream",
          "name": "stdout",
          "text": [
            "(2184, 1)\n",
            "1750 434\n"
          ]
        }
      ],
      "source": [
        "# convert dataframe into numpy array\n",
        "commodity_ar = np.array(commodity)\n",
        "print(commodity_ar.shape)\n",
        "# get the numbers of training data needed\n",
        "# fitting it to a full week data (hence the +3)\n",
        "commodity_train_len = int(len(commodity_ar)*.8+3)\n",
        "commodity_test_len = len(commodity_ar)-commodity_train_len\n",
        "print(commodity_train_len, commodity_test_len)"
      ]
    },
    {
      "cell_type": "code",
      "execution_count": 10,
      "metadata": {
        "id": "rmhIv3PmYd4z"
      },
      "outputs": [],
      "source": [
        "# scaling the data\n",
        "scaler=MinMaxScaler(feature_range=(0,1))"
      ]
    },
    {
      "cell_type": "code",
      "execution_count": 11,
      "metadata": {
        "colab": {
          "base_uri": "https://localhost:8080/"
        },
        "id": "Bi94o4_lYjGa",
        "outputId": "40d98c4a-0481-40e1-ffe7-a268f3bf6b40"
      },
      "outputs": [
        {
          "output_type": "stream",
          "name": "stdout",
          "text": [
            "(1750, 1)\n"
          ]
        }
      ],
      "source": [
        "# making training dataset\n",
        "commodity_train = commodity_ar[0:commodity_train_len]\n",
        "print(commodity_train.shape)\n",
        "commodity_train_scaled = scaler.fit_transform(commodity_train)"
      ]
    },
    {
      "cell_type": "code",
      "execution_count": 12,
      "metadata": {
        "id": "PK-zw-dTZhQN"
      },
      "outputs": [],
      "source": [
        "# creating matrix dataset function\n",
        "def create_dataset(dataset, time_step=1):\n",
        "    dataX, dataY = [], []\n",
        "    for i in range(len(dataset)-time_step):\n",
        "        a = dataset[i:(i+time_step), 0]\n",
        "        dataX.append(a)\n",
        "        dataY.append(dataset[i+time_step, 0])\n",
        "    return np.array(dataX), np.array(dataY)"
      ]
    },
    {
      "cell_type": "code",
      "execution_count": 13,
      "metadata": {
        "colab": {
          "base_uri": "https://localhost:8080/"
        },
        "id": "Mke0PMizZnHu",
        "outputId": "c9fc7fe0-f25b-4ec6-a0f5-83909a8ffbf7"
      },
      "outputs": [
        {
          "output_type": "stream",
          "name": "stdout",
          "text": [
            "(1743, 7) (1743,)\n"
          ]
        }
      ],
      "source": [
        "# applying new function to create matrix dataset\n",
        "time_step = 7\n",
        "X_train, y_train = create_dataset(commodity_train_scaled, time_step)\n",
        "print(X_train.shape, y_train.shape)"
      ]
    },
    {
      "cell_type": "code",
      "execution_count": 14,
      "metadata": {
        "colab": {
          "base_uri": "https://localhost:8080/"
        },
        "id": "7BuEcN2tZ2y4",
        "outputId": "9116f076-9427-4279-af8e-3aa64f1339e2"
      },
      "outputs": [
        {
          "output_type": "stream",
          "name": "stdout",
          "text": [
            "(1743, 7)\n",
            "(1743,)\n",
            "(1743, 7, 1)\n"
          ]
        }
      ],
      "source": [
        "# reshape data\n",
        "print(X_train.shape), print(y_train.shape)\n",
        "X_train = np.reshape(X_train, (X_train.shape[0], X_train.shape[1], 1))\n",
        "print(X_train.shape)"
      ]
    },
    {
      "cell_type": "code",
      "execution_count": 15,
      "metadata": {
        "id": "v3WsK0l6S9TW"
      },
      "outputs": [],
      "source": [
        "from keras.layers import Dense, Input, Dropout\n",
        "from keras.layers import LSTM\n",
        "from keras.models import Model\n",
        "from keras.models import load_model\n",
        "from keras.callbacks import ModelCheckpoint"
      ]
    },
    {
      "cell_type": "code",
      "execution_count": 16,
      "metadata": {
        "id": "DUb1x-0ADgF6"
      },
      "outputs": [],
      "source": [
        "np.random.seed(333)\n",
        "tf.random.set_seed(333)"
      ]
    },
    {
      "cell_type": "code",
      "execution_count": 17,
      "metadata": {
        "id": "xAYT3bbNSxNr"
      },
      "outputs": [],
      "source": [
        "neuron = 200\n",
        "n_epoch = 100"
      ]
    },
    {
      "cell_type": "code",
      "execution_count": 18,
      "metadata": {
        "colab": {
          "base_uri": "https://localhost:8080/"
        },
        "id": "vF2yK_CFZ_Lz",
        "outputId": "1f62f0dc-5d8c-4769-8adf-4a953835a1a7"
      },
      "outputs": [
        {
          "output_type": "stream",
          "name": "stdout",
          "text": [
            "Model: \"model\"\n",
            "_________________________________________________________________\n",
            " Layer (type)                Output Shape              Param #   \n",
            "=================================================================\n",
            " input_1 (InputLayer)        [(None, 7, 1)]            0         \n",
            "                                                                 \n",
            " lstm (LSTM)                 (None, 7, 200)            161600    \n",
            "                                                                 \n",
            " lstm_1 (LSTM)               (None, 200)               320800    \n",
            "                                                                 \n",
            " dropout (Dropout)           (None, 200)               0         \n",
            "                                                                 \n",
            " dense (Dense)               (None, 1)                 201       \n",
            "                                                                 \n",
            "=================================================================\n",
            "Total params: 482,601\n",
            "Trainable params: 482,601\n",
            "Non-trainable params: 0\n",
            "_________________________________________________________________\n"
          ]
        }
      ],
      "source": [
        "#Define input layer which has shape (None, 7) and of type float32.\n",
        "# None indicates the number of instances\n",
        "input_layer = Input(shape=(7,1), dtype='float32')\n",
        "# lstm layer\n",
        "lstm_layer1 = LSTM(neuron, input_shape=(7,1), return_sequences=True)(input_layer)\n",
        "lstm_layer2 = LSTM(neuron, input_shape=(7,neuron), return_sequences=False)(lstm_layer1)\n",
        "#lstm_layer3 = LSTM(neuron, input_shape=(7,neuron), return_sequences=False)(lstm_layer2)\n",
        "# dropout layer\n",
        "dropout_layer = Dropout(0.2)(lstm_layer2)\n",
        "# output layer\n",
        "output_layer = Dense(1)(dropout_layer)\n",
        "# compile model\n",
        "ts_model = Model(inputs=input_layer, outputs=output_layer)\n",
        "ts_model.compile(loss='mean_absolute_error', optimizer='adam')\n",
        "ts_model.summary()"
      ]
    },
    {
      "cell_type": "code",
      "execution_count": 19,
      "metadata": {
        "colab": {
          "base_uri": "https://localhost:8080/"
        },
        "id": "JJasof1fUK7a",
        "outputId": "7089d40b-ec3a-4434-977d-8e2779946ad0"
      },
      "outputs": [
        {
          "output_type": "stream",
          "name": "stdout",
          "text": [
            "Epoch 1/100\n",
            "28/28 [==============================] - 17s 126ms/step - loss: 0.0496\n",
            "Epoch 2/100\n",
            "28/28 [==============================] - 3s 100ms/step - loss: 0.0193\n",
            "Epoch 3/100\n",
            "28/28 [==============================] - 2s 66ms/step - loss: 0.0192\n",
            "Epoch 4/100\n",
            "28/28 [==============================] - 2s 67ms/step - loss: 0.0181\n",
            "Epoch 5/100\n",
            "28/28 [==============================] - 2s 67ms/step - loss: 0.0184\n",
            "Epoch 6/100\n",
            "28/28 [==============================] - 2s 64ms/step - loss: 0.0185\n",
            "Epoch 7/100\n",
            "28/28 [==============================] - 2s 66ms/step - loss: 0.0180\n",
            "Epoch 8/100\n",
            "28/28 [==============================] - 2s 62ms/step - loss: 0.0170\n",
            "Epoch 9/100\n",
            "28/28 [==============================] - 2s 63ms/step - loss: 0.0170\n",
            "Epoch 10/100\n",
            "28/28 [==============================] - 2s 62ms/step - loss: 0.0172\n",
            "Epoch 11/100\n",
            "28/28 [==============================] - 2s 65ms/step - loss: 0.0166\n",
            "Epoch 12/100\n",
            "28/28 [==============================] - 2s 64ms/step - loss: 0.0164\n",
            "Epoch 13/100\n",
            "28/28 [==============================] - 2s 63ms/step - loss: 0.0186\n",
            "Epoch 14/100\n",
            "28/28 [==============================] - 2s 65ms/step - loss: 0.0155\n",
            "Epoch 15/100\n",
            "28/28 [==============================] - 2s 63ms/step - loss: 0.0156\n",
            "Epoch 16/100\n",
            "28/28 [==============================] - 2s 62ms/step - loss: 0.0177\n",
            "Epoch 17/100\n",
            "28/28 [==============================] - 2s 64ms/step - loss: 0.0157\n",
            "Epoch 18/100\n",
            "28/28 [==============================] - 2s 64ms/step - loss: 0.0148\n",
            "Epoch 19/100\n",
            "28/28 [==============================] - 2s 64ms/step - loss: 0.0156\n",
            "Epoch 20/100\n",
            "28/28 [==============================] - 2s 63ms/step - loss: 0.0165\n",
            "Epoch 21/100\n",
            "28/28 [==============================] - 2s 62ms/step - loss: 0.0150\n",
            "Epoch 22/100\n",
            "28/28 [==============================] - 2s 66ms/step - loss: 0.0145\n",
            "Epoch 23/100\n",
            "28/28 [==============================] - 2s 66ms/step - loss: 0.0139\n",
            "Epoch 24/100\n",
            "28/28 [==============================] - 2s 63ms/step - loss: 0.0142\n",
            "Epoch 25/100\n",
            "28/28 [==============================] - 2s 62ms/step - loss: 0.0150\n",
            "Epoch 26/100\n",
            "28/28 [==============================] - 2s 64ms/step - loss: 0.0140\n",
            "Epoch 27/100\n",
            "28/28 [==============================] - 2s 63ms/step - loss: 0.0137\n",
            "Epoch 28/100\n",
            "28/28 [==============================] - 2s 65ms/step - loss: 0.0136\n",
            "Epoch 29/100\n",
            "28/28 [==============================] - 2s 63ms/step - loss: 0.0133\n",
            "Epoch 30/100\n",
            "28/28 [==============================] - 2s 62ms/step - loss: 0.0131\n",
            "Epoch 31/100\n",
            "28/28 [==============================] - 2s 64ms/step - loss: 0.0135\n",
            "Epoch 32/100\n",
            "28/28 [==============================] - 2s 64ms/step - loss: 0.0135\n",
            "Epoch 33/100\n",
            "28/28 [==============================] - 2s 64ms/step - loss: 0.0130\n",
            "Epoch 34/100\n",
            "28/28 [==============================] - 2s 60ms/step - loss: 0.0134\n",
            "Epoch 35/100\n",
            "28/28 [==============================] - 2s 63ms/step - loss: 0.0126\n",
            "Epoch 36/100\n",
            "28/28 [==============================] - 2s 63ms/step - loss: 0.0124\n",
            "Epoch 37/100\n",
            "28/28 [==============================] - 2s 64ms/step - loss: 0.0125\n",
            "Epoch 38/100\n",
            "28/28 [==============================] - 2s 62ms/step - loss: 0.0125\n",
            "Epoch 39/100\n",
            "28/28 [==============================] - 2s 65ms/step - loss: 0.0126\n",
            "Epoch 40/100\n",
            "28/28 [==============================] - 2s 65ms/step - loss: 0.0133\n",
            "Epoch 41/100\n",
            "28/28 [==============================] - 2s 65ms/step - loss: 0.0123\n",
            "Epoch 42/100\n",
            "28/28 [==============================] - 2s 64ms/step - loss: 0.0122\n",
            "Epoch 43/100\n",
            "28/28 [==============================] - 2s 62ms/step - loss: 0.0116\n",
            "Epoch 44/100\n",
            "28/28 [==============================] - 2s 66ms/step - loss: 0.0120\n",
            "Epoch 45/100\n",
            "28/28 [==============================] - 2s 65ms/step - loss: 0.0116\n",
            "Epoch 46/100\n",
            "28/28 [==============================] - 2s 62ms/step - loss: 0.0117\n",
            "Epoch 47/100\n",
            "28/28 [==============================] - 2s 65ms/step - loss: 0.0122\n",
            "Epoch 48/100\n",
            "28/28 [==============================] - 2s 63ms/step - loss: 0.0119\n",
            "Epoch 49/100\n",
            "28/28 [==============================] - 2s 62ms/step - loss: 0.0121\n",
            "Epoch 50/100\n",
            "28/28 [==============================] - 2s 63ms/step - loss: 0.0127\n",
            "Epoch 51/100\n",
            "28/28 [==============================] - 2s 64ms/step - loss: 0.0122\n",
            "Epoch 52/100\n",
            "28/28 [==============================] - 2s 82ms/step - loss: 0.0111\n",
            "Epoch 53/100\n",
            "28/28 [==============================] - 3s 96ms/step - loss: 0.0114\n",
            "Epoch 54/100\n",
            "28/28 [==============================] - 2s 65ms/step - loss: 0.0113\n",
            "Epoch 55/100\n",
            "28/28 [==============================] - 2s 66ms/step - loss: 0.0114\n",
            "Epoch 56/100\n",
            "28/28 [==============================] - 2s 64ms/step - loss: 0.0125\n",
            "Epoch 57/100\n",
            "28/28 [==============================] - 2s 64ms/step - loss: 0.0118\n",
            "Epoch 58/100\n",
            "28/28 [==============================] - 2s 65ms/step - loss: 0.0113\n",
            "Epoch 59/100\n",
            "28/28 [==============================] - 2s 63ms/step - loss: 0.0109\n",
            "Epoch 60/100\n",
            "28/28 [==============================] - 2s 65ms/step - loss: 0.0108\n",
            "Epoch 61/100\n",
            "28/28 [==============================] - 2s 66ms/step - loss: 0.0115\n",
            "Epoch 62/100\n",
            "28/28 [==============================] - 2s 63ms/step - loss: 0.0113\n",
            "Epoch 63/100\n",
            "28/28 [==============================] - 2s 66ms/step - loss: 0.0112\n",
            "Epoch 64/100\n",
            "28/28 [==============================] - 2s 66ms/step - loss: 0.0107\n",
            "Epoch 65/100\n",
            "28/28 [==============================] - 2s 63ms/step - loss: 0.0112\n",
            "Epoch 66/100\n",
            "28/28 [==============================] - 2s 64ms/step - loss: 0.0115\n",
            "Epoch 67/100\n",
            "28/28 [==============================] - 2s 65ms/step - loss: 0.0110\n",
            "Epoch 68/100\n",
            "28/28 [==============================] - 2s 63ms/step - loss: 0.0111\n",
            "Epoch 69/100\n",
            "28/28 [==============================] - 2s 62ms/step - loss: 0.0110\n",
            "Epoch 70/100\n",
            "28/28 [==============================] - 2s 64ms/step - loss: 0.0110\n",
            "Epoch 71/100\n",
            "28/28 [==============================] - 2s 66ms/step - loss: 0.0109\n",
            "Epoch 72/100\n",
            "28/28 [==============================] - 2s 65ms/step - loss: 0.0107\n",
            "Epoch 73/100\n",
            "28/28 [==============================] - 2s 66ms/step - loss: 0.0111\n",
            "Epoch 74/100\n",
            "28/28 [==============================] - 2s 63ms/step - loss: 0.0109\n",
            "Epoch 75/100\n",
            "28/28 [==============================] - 2s 65ms/step - loss: 0.0106\n",
            "Epoch 76/100\n",
            "28/28 [==============================] - 2s 67ms/step - loss: 0.0105\n",
            "Epoch 77/100\n",
            "28/28 [==============================] - 2s 63ms/step - loss: 0.0109\n",
            "Epoch 78/100\n",
            "28/28 [==============================] - 2s 65ms/step - loss: 0.0115\n",
            "Epoch 79/100\n",
            "28/28 [==============================] - 2s 64ms/step - loss: 0.0104\n",
            "Epoch 80/100\n",
            "28/28 [==============================] - 2s 65ms/step - loss: 0.0107\n",
            "Epoch 81/100\n",
            "28/28 [==============================] - 2s 67ms/step - loss: 0.0113\n",
            "Epoch 82/100\n",
            "28/28 [==============================] - 2s 66ms/step - loss: 0.0112\n",
            "Epoch 83/100\n",
            "28/28 [==============================] - 2s 65ms/step - loss: 0.0107\n",
            "Epoch 84/100\n",
            "28/28 [==============================] - 2s 66ms/step - loss: 0.0110\n",
            "Epoch 85/100\n",
            "28/28 [==============================] - 2s 63ms/step - loss: 0.0109\n",
            "Epoch 86/100\n",
            "28/28 [==============================] - 2s 65ms/step - loss: 0.0112\n",
            "Epoch 87/100\n",
            "28/28 [==============================] - 2s 66ms/step - loss: 0.0112\n",
            "Epoch 88/100\n",
            "28/28 [==============================] - 2s 66ms/step - loss: 0.0113\n",
            "Epoch 89/100\n",
            "28/28 [==============================] - 2s 64ms/step - loss: 0.0111\n",
            "Epoch 90/100\n",
            "28/28 [==============================] - 2s 68ms/step - loss: 0.0104\n",
            "Epoch 91/100\n",
            "28/28 [==============================] - 2s 65ms/step - loss: 0.0104\n",
            "Epoch 92/100\n",
            "28/28 [==============================] - 2s 66ms/step - loss: 0.0112\n",
            "Epoch 93/100\n",
            "28/28 [==============================] - 2s 67ms/step - loss: 0.0108\n",
            "Epoch 94/100\n",
            "28/28 [==============================] - 2s 68ms/step - loss: 0.0105\n",
            "Epoch 95/100\n",
            "28/28 [==============================] - 2s 63ms/step - loss: 0.0102\n",
            "Epoch 96/100\n",
            "28/28 [==============================] - 2s 64ms/step - loss: 0.0105\n",
            "Epoch 97/100\n",
            "28/28 [==============================] - 2s 64ms/step - loss: 0.0105\n",
            "Epoch 98/100\n",
            "28/28 [==============================] - 2s 64ms/step - loss: 0.0107\n",
            "Epoch 99/100\n",
            "28/28 [==============================] - 2s 64ms/step - loss: 0.0108\n",
            "Epoch 100/100\n",
            "28/28 [==============================] - 2s 64ms/step - loss: 0.0107\n"
          ]
        },
        {
          "output_type": "execute_result",
          "data": {
            "text/plain": [
              "<keras.callbacks.History at 0x7f94dd67e580>"
            ]
          },
          "metadata": {},
          "execution_count": 19
        }
      ],
      "source": [
        "ts_model.fit(x=X_train, y=y_train, batch_size=64, epochs=n_epoch, verbose=1,\n",
        "             shuffle=True)"
      ]
    },
    {
      "cell_type": "code",
      "execution_count": 20,
      "metadata": {
        "colab": {
          "base_uri": "https://localhost:8080/"
        },
        "id": "djBxU2yW3_Dg",
        "outputId": "d7f1d817-935d-469e-ca6c-6881d5278d58"
      },
      "outputs": [
        {
          "output_type": "stream",
          "name": "stdout",
          "text": [
            "55/55 [==============================] - 2s 16ms/step\n",
            "[[36097.27 ]\n",
            " [36939.355]\n",
            " [36631.484]\n",
            " [36844.42 ]\n",
            " [36795.145]]\n"
          ]
        }
      ],
      "source": [
        "# applying predictin model to training data\n",
        "train_predict=ts_model.predict(X_train)\n",
        "train_predict=scaler.inverse_transform(train_predict)\n",
        "print(train_predict[:5])"
      ]
    },
    {
      "cell_type": "code",
      "execution_count": 21,
      "metadata": {
        "colab": {
          "base_uri": "https://localhost:8080/"
        },
        "id": "bqsxU9DZbHEF",
        "outputId": "51a6d1d7-5c9f-4b4c-ac41-b86f1be0481b"
      },
      "outputs": [
        {
          "output_type": "stream",
          "name": "stdout",
          "text": [
            "(434, 1)\n",
            "[[0.21561523]\n",
            " [0.21359519]\n",
            " [0.22771944]\n",
            " [0.21673747]\n",
            " [0.21507014]]\n"
          ]
        }
      ],
      "source": [
        "# making testing dataset\n",
        "commodity_test = commodity_ar[commodity_train_len:]\n",
        "print(commodity_test.shape)\n",
        "# normalizing testing dataset\n",
        "commodity_test_scaled = scaler.transform(commodity_test)\n",
        "print(commodity_test_scaled[:5])"
      ]
    },
    {
      "cell_type": "code",
      "execution_count": 22,
      "metadata": {
        "colab": {
          "base_uri": "https://localhost:8080/"
        },
        "id": "uRoIfJUza_yT",
        "outputId": "5f5b90be-cffb-4d47-f2c7-30ea31fc5797"
      },
      "outputs": [
        {
          "output_type": "stream",
          "name": "stdout",
          "text": [
            "(427, 7) (427,)\n"
          ]
        }
      ],
      "source": [
        "# applying new function to create matrix testing data\n",
        "X_test, y_test = create_dataset(commodity_test_scaled, time_step)\n",
        "print(X_test.shape, y_test.shape)"
      ]
    },
    {
      "cell_type": "code",
      "execution_count": 23,
      "metadata": {
        "colab": {
          "base_uri": "https://localhost:8080/"
        },
        "id": "ntLp3FXga9IW",
        "outputId": "c2ce1784-a22f-4285-d38f-0508d009d4c6"
      },
      "outputs": [
        {
          "output_type": "stream",
          "name": "stdout",
          "text": [
            "(427, 7) (427,)\n",
            "(427, 7, 1)\n"
          ]
        }
      ],
      "source": [
        "# reshaping testing data to fit LSTM model\n",
        "print(X_test.shape, y_test.shape)\n",
        "X_test = np.reshape(X_test, (X_test.shape[0], X_test.shape[1], 1))\n",
        "print(X_test.shape)"
      ]
    },
    {
      "cell_type": "code",
      "execution_count": 24,
      "metadata": {
        "colab": {
          "base_uri": "https://localhost:8080/"
        },
        "id": "iBxr3UbUa8pt",
        "outputId": "089b3a32-1755-4123-db15-cd60622efec2"
      },
      "outputs": [
        {
          "output_type": "stream",
          "name": "stdout",
          "text": [
            "14/14 [==============================] - 0s 16ms/step\n",
            "[[40033.984]\n",
            " [34666.633]\n",
            " [34569.355]\n",
            " [37842.14 ]\n",
            " [37874.05 ]]\n"
          ]
        }
      ],
      "source": [
        "# applying prediction model to testing data\n",
        "test_predict=ts_model.predict(X_test)\n",
        "# transform to original form\n",
        "test_predict=scaler.inverse_transform(test_predict)\n",
        "print(test_predict[:5])"
      ]
    },
    {
      "cell_type": "code",
      "execution_count": 25,
      "metadata": {
        "colab": {
          "base_uri": "https://localhost:8080/"
        },
        "id": "T2Qd3UOfdN2v",
        "outputId": "1967cfde-5058-48ce-ffd6-810ffbe95dc5"
      },
      "outputs": [
        {
          "output_type": "stream",
          "name": "stdout",
          "text": [
            "(427, 1) (1743, 1)\n",
            "Testing Data Prediction with LSTM MAPE score: 1.2996012657660831\n",
            "Training Data Prediction with LSTM MAPE score: 1.6142221491656645\n"
          ]
        }
      ],
      "source": [
        "# mape calculation\n",
        "def mape(actual, pred): \n",
        "    actual, pred = np.array(actual), np.array(pred)\n",
        "    return np.mean(np.abs((actual - pred) / actual)) * 100\n",
        "\n",
        "\n",
        "commodity_test_data = commodity_ar[len(train_predict)+\n",
        "                                   (time_step*2):len(commodity_ar)]\n",
        "commodity_train_data = commodity_ar[time_step:commodity_train_len]\n",
        "print(commodity_test_data.shape, commodity_train_data.shape)\n",
        "print('Testing Data Prediction with LSTM MAPE score:',\n",
        "      mape(commodity_test_data, test_predict))\n",
        "print('Training Data Prediction with LSTM MAPE score:',\n",
        "      mape(commodity_train_data, train_predict))"
      ]
    },
    {
      "cell_type": "code",
      "execution_count": 26,
      "metadata": {
        "colab": {
          "base_uri": "https://localhost:8080/"
        },
        "id": "x6drDddE1s8C",
        "outputId": "a44aa462-586b-42d9-b909-a21b77543aac"
      },
      "outputs": [
        {
          "output_type": "stream",
          "name": "stdout",
          "text": [
            "LSTM MdAE score: 199.70703125\n",
            "LSTM MAE score: 428.8380644394028\n"
          ]
        }
      ],
      "source": [
        "# MAE and MdAE calculation\n",
        "print('LSTM MdAE score:', median_absolute_error(commodity_test_data,\n",
        "                                                test_predict))\n",
        "print('LSTM MAE score:', mean_absolute_error(commodity_test_data,\n",
        "                                             test_predict))"
      ]
    },
    {
      "cell_type": "code",
      "execution_count": 27,
      "metadata": {
        "colab": {
          "base_uri": "https://localhost:8080/"
        },
        "id": "c9dGAvrS12IR",
        "outputId": "be01b3d9-c5b2-4970-f581-223e3aee2113"
      },
      "outputs": [
        {
          "output_type": "stream",
          "name": "stdout",
          "text": [
            "LSTM MSE score: 908419.9109341535\n",
            "LSTM RMSE score: 953.1106498902179\n"
          ]
        }
      ],
      "source": [
        "# MSE and RMSE calculation\n",
        "print('LSTM MSE score:', mean_squared_error(commodity_test_data,\n",
        "                                            test_predict))\n",
        "print('LSTM RMSE score:', mean_squared_error(commodity_test_data,\n",
        "                                             test_predict, squared=False))"
      ]
    },
    {
      "cell_type": "code",
      "execution_count": 28,
      "metadata": {
        "colab": {
          "base_uri": "https://localhost:8080/"
        },
        "id": "waKPZ0oaNUIN",
        "outputId": "51c70612-93ba-4998-c172-c8310d7ba775"
      },
      "outputs": [
        {
          "output_type": "stream",
          "name": "stdout",
          "text": [
            "LSTM MAPE score: 1.2996012657660831\n",
            "LSTM MAE score: 428.8380644394028\n"
          ]
        }
      ],
      "source": [
        "print('LSTM MAPE score:',\n",
        "      mape(commodity_test_data, test_predict))\n",
        "print('LSTM MAE score:', mean_absolute_error(commodity_test_data,\n",
        "                                             test_predict))"
      ]
    },
    {
      "cell_type": "code",
      "execution_count": 29,
      "metadata": {
        "id": "pRz2gPdaLw6Q"
      },
      "outputs": [],
      "source": [
        "test_predict=pd.DataFrame(test_predict)\n",
        "test_predict.index=commodity.index[len(train_predict)+\n",
        "                                   (time_step*2):len(commodity_ar)]"
      ]
    },
    {
      "cell_type": "code",
      "execution_count": 30,
      "metadata": {
        "id": "ztbvQt0bYKTW"
      },
      "outputs": [],
      "source": [
        "commodity_test_data=pd.DataFrame(commodity_test_data)\n",
        "commodity_test_data.index=commodity.index[len(train_predict)+\n",
        "                                   (time_step*2):len(commodity_ar)]"
      ]
    },
    {
      "cell_type": "code",
      "execution_count": 31,
      "metadata": {
        "colab": {
          "base_uri": "https://localhost:8080/",
          "height": 975
        },
        "id": "O-ssBqmg0XgE",
        "outputId": "2253f9bb-d1fb-46a4-cf3c-ba166a64eda2"
      },
      "outputs": [
        {
          "output_type": "execute_result",
          "data": {
            "text/plain": [
              "(array([18561, 18628, 18718, 18809, 18901, 18987]),\n",
              " <a list of 6 Text major ticklabel objects>)"
            ]
          },
          "metadata": {},
          "execution_count": 31
        },
        {
          "output_type": "display_data",
          "data": {
            "text/plain": [
              "<Figure size 2016x1728 with 1 Axes>"
            ],
            "image/png": "[encoded data removed]"
          },
          "metadata": {
            "needs_background": "light"
          }
        }
      ],
      "source": [
        "fig,ax=plt.subplots(figsize=(28,24))\n",
        "commodity_test_data.plot(ax=ax,linewidth=3)\n",
        "test_predict.plot(ax=ax,linewidth=3)\n",
        "ax.set_title(f'Model prediction vs actual price of {comm_name}',\n",
        "             size=40)\n",
        "ax.legend([\n",
        "           \"aktual\",\n",
        "           \"lstm\",\n",
        "           ],fontsize=40)\n",
        "ax.set_ylabel('Price in IDR', size=40)\n",
        "ax.set_xlabel('Date', size=40)\n",
        "plt.yticks(fontsize=30,)\n",
        "plt.xticks(fontsize=30,)"
      ]
    },
    {
      "cell_type": "code",
      "execution_count": 32,
      "metadata": {
        "colab": {
          "base_uri": "https://localhost:8080/",
          "height": 17
        },
        "id": "4S9323mIK63O",
        "outputId": "889fea8f-7987-4ff2-d65b-24a19d50161d"
      },
      "outputs": [
        {
          "output_type": "display_data",
          "data": {
            "text/plain": [
              "<IPython.core.display.Javascript object>"
            ],
            "application/javascript": [
              "\n",
              "    async function download(id, filename, size) {\n",
              "      if (!google.colab.kernel.accessAllowed) {\n",
              "        return;\n",
              "      }\n",
              "      const div = document.createElement('div');\n",
              "      const label = document.createElement('label');\n",
              "      label.textContent = `Downloading \"${filename}\": `;\n",
              "      div.appendChild(label);\n",
              "      const progress = document.createElement('progress');\n",
              "      progress.max = size;\n",
              "      div.appendChild(progress);\n",
              "      document.body.appendChild(div);\n",
              "\n",
              "      const buffers = [];\n",
              "      let downloaded = 0;\n",
              "\n",
              "      const channel = await google.colab.kernel.comms.open(id);\n",
              "      // Send a message to notify the kernel that we're ready.\n",
              "      channel.send({})\n",
              "\n",
              "      for await (const message of channel.messages) {\n",
              "        // Send a message to notify the kernel that we're ready.\n",
              "        channel.send({})\n",
              "        if (message.buffers) {\n",
              "          for (const buffer of message.buffers) {\n",
              "            buffers.push(buffer);\n",
              "            downloaded += buffer.byteLength;\n",
              "            progress.value = downloaded;\n",
              "          }\n",
              "        }\n",
              "      }\n",
              "      const blob = new Blob(buffers, {type: 'application/binary'});\n",
              "      const a = document.createElement('a');\n",
              "      a.href = window.URL.createObjectURL(blob);\n",
              "      a.download = filename;\n",
              "      div.appendChild(a);\n",
              "      a.click();\n",
              "      div.remove();\n",
              "    }\n",
              "  "
            ]
          },
          "metadata": {}
        },
        {
          "output_type": "display_data",
          "data": {
            "text/plain": [
              "<IPython.core.display.Javascript object>"
            ],
            "application/javascript": [
              "download(\"download_d7c68919-6d38-4e7a-bbd4-5c7ee912530c\", \"revised_lstm_rice.csv\", 8842)"
            ]
          },
          "metadata": {}
        }
      ],
      "source": [
        "pd.DataFrame(test_predict, columns=[0]).to_csv('revised_lstm_rice.csv')\n",
        "files.download(\"revised_lstm_rice.csv\")"
      ]
    }
  ],
  "metadata": {
    "accelerator": "TPU",
    "colab": {
      "provenance": []
    },
    "gpuClass": "standard",
    "kernelspec": {
      "display_name": "Python 3",
      "name": "python3"
    },
    "language_info": {
      "name": "python"
    }
  },
  "nbformat": 4,
  "nbformat_minor": 0
}